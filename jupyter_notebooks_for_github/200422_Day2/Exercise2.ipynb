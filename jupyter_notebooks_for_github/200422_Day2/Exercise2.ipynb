{
 "cells": [
  {
   "cell_type": "markdown",
   "metadata": {},
   "source": [
    "Exercise 2\n",
    "---\n",
    "\n",
    "\n",
    "Let's goooo"
   ]
  },
  {
   "cell_type": "code",
   "execution_count": 43,
   "metadata": {},
   "outputs": [],
   "source": [
    "import bootcamp_utils"
   ]
  },
  {
   "cell_type": "markdown",
   "metadata": {},
   "source": [
    "#### 2.1.b"
   ]
  },
  {
   "cell_type": "code",
   "execution_count": 2,
   "metadata": {},
   "outputs": [],
   "source": [
    "def reader(file_name):\n",
    "    \"\"\"A function to read a FASTA file and return the descriptor line and whole sequence as strings\"\"\"\n",
    "    with open(file_name, 'r') as f:\n",
    "        seq = ''\n",
    "        for line in f:\n",
    "            \n",
    "            #if any line matches > as its first character, save that as descriptor line. Else, add line to seq variable\n",
    "            if line[0] == \">\":\n",
    "                desc = line\n",
    "            else:\n",
    "                seq += line.rstrip(\"\\n\")\n",
    "    return desc, seq\n",
    "\n",
    "        \n",
    "#file_name = '../../git/bootcamp/data/salmonella_spi1_region.fna'\n",
    "#reader(file_name)\n",
    "#print (\"done\")"
   ]
  },
  {
   "cell_type": "markdown",
   "metadata": {},
   "source": [
    "#### 2.2.a"
   ]
  },
  {
   "cell_type": "code",
   "execution_count": 3,
   "metadata": {},
   "outputs": [
    {
     "name": "stdout",
     "output_type": "stream",
     "text": [
      "done\n"
     ]
    }
   ],
   "source": [
    "file_name = 'lambda_NEB_seq.txt'\n",
    "reader(file_name)\n",
    "print (\"done\")"
   ]
  },
  {
   "cell_type": "markdown",
   "metadata": {},
   "source": [
    "#### 2.2.b"
   ]
  },
  {
   "cell_type": "code",
   "execution_count": 8,
   "metadata": {},
   "outputs": [
    {
     "data": {
      "text/plain": [
       "[17052, 18555]"
      ]
     },
     "execution_count": 8,
     "metadata": {},
     "output_type": "execute_result"
    }
   ],
   "source": [
    "HindIII_req = 'AAGCTT'\n",
    "EcoRI_req = 'GAATTC'\n",
    "Kpnl_req = 'GGTACC'\n",
    "\n",
    "\n",
    "def restriction_sites(seq, recog_seq):\n",
    "    \"\"\"Function to search for restriction sites in the given sequence and return a list of indices of the first base of the restriction seq when found\"\"\"\n",
    "    i = 0\n",
    "    indices=[]\n",
    "    \n",
    "    # if recognition sequence exists is equal to any segment of the sequence, with the same length, append its index to indices.\n",
    "    while i < len(seq): \n",
    "        if recog_seq == seq[i:i+len(recog_seq)]:\n",
    "            #print (i, seq_list[i:i+len(recoq_seq)])\n",
    "            indices.append(i)\n",
    "        i += 1\n",
    "    return indices\n",
    "name_seq, seq = reader(file_name)\n",
    "restriction_sites(seq, Kpnl_req)"
   ]
  },
  {
   "cell_type": "markdown",
   "metadata": {},
   "source": [
    "#### 2.3.a"
   ]
  },
  {
   "cell_type": "code",
   "execution_count": 9,
   "metadata": {},
   "outputs": [
    {
     "data": {
      "text/plain": [
       "(0.25, 0.5, 0.75, 1.0, 1.0, 0.5)"
      ]
     },
     "execution_count": 9,
     "metadata": {},
     "output_type": "execute_result"
    }
   ],
   "source": [
    "def gc_blocks(seq,block_size):\n",
    "    \"\"\"calculate for each block of sequence the gc content in fractions\"\"\"\n",
    "    i = 0\n",
    "    gc_content=[]\n",
    "    \n",
    "    #making sure that I get a uniform lower case sequence as input to the following section.\n",
    "    seq_low=seq.lower()\n",
    "    while i < len(seq_low):\n",
    "        \n",
    "        # making sure that I don't get an error what says Index is out of range. Break while loop if that happens\n",
    "        if i + block_size > len(seq_low):\n",
    "            break\n",
    "        \n",
    "        #if not broken, block is now a temporary segment of sequences, whose length is dictated by block_size. \n",
    "        #Doing the math right inside append() method and appending the result to gc_content list.\n",
    "        else:\n",
    "            block = seq_low[i:i+block_size]\n",
    "            #print (block)\n",
    "            gc_content.append((block.count('g') + block.count('c'))/block_size)\n",
    "        i += block_size\n",
    "    return tuple(gc_content)\n",
    "    \n",
    "    \n",
    "seq = 'ATGACTACGTGGGGGGGGGGGGAA'\n",
    "block_size = 4\n",
    "\n",
    "gc_blocks(seq, block_size)"
   ]
  },
  {
   "cell_type": "markdown",
   "metadata": {},
   "source": [
    "#### 2.3.b"
   ]
  },
  {
   "cell_type": "code",
   "execution_count": 10,
   "metadata": {},
   "outputs": [
    {
     "name": "stdout",
     "output_type": "stream",
     "text": [
      "24\n"
     ]
    },
    {
     "data": {
      "text/plain": [
       "'ATGACTACGTagattAGCGA'"
      ]
     },
     "execution_count": 10,
     "metadata": {},
     "output_type": "execute_result"
    }
   ],
   "source": [
    "def gc_map(seq, block_size, gc_thresh):\n",
    "    \"\"\"use gc_content to conver the seq file into a mapped seq file\"\"\"\n",
    "    # I wanted to incorporate gc_content function into this function so I started from it. Idea is to go through every block and if the block's gc_content\n",
    "    # is lower or higher than threshold, calculate the corresponding sequence of that block from the master seq variable and upper() or lower() it and store in a string\n",
    "    gc_cont = gc_blocks(seq, block_size)\n",
    "    i = 0\n",
    "    mapped = ''\n",
    "    while i < len(gc_cont):\n",
    "        \n",
    "        #the seq[i*block_size : i*block_size+block_size] segmenter makes sure that I select the correct corresponding sequence segment for every block in gc_cont\n",
    "        if gc_cont[i] < gc_thresh:\n",
    "            block = seq[i*block_size:i*block_size+block_size].lower()\n",
    "            #print (block, i)\n",
    "        else:\n",
    "            block = seq[i*block_size:i*block_size+block_size]\n",
    "        mapped += block \n",
    "        #print ('block:', i)\n",
    "        i += 1\n",
    "    return mapped\n",
    "\n",
    "seq = 'ATGACTACGTAGATTAGCGAACTT'\n",
    "block_size = 5\n",
    "gc_thresh = 0.4\n",
    "print (len(seq))\n",
    "gc_map(seq, block_size, gc_thresh)"
   ]
  },
  {
   "cell_type": "markdown",
   "metadata": {},
   "source": [
    "#### 2.3.c"
   ]
  },
  {
   "cell_type": "code",
   "execution_count": 11,
   "metadata": {},
   "outputs": [],
   "source": [
    "#using gc_map function to map the salmonella subregion.\n",
    "file_name = '../../git/bootcamp/data/salmonella_spi1_region.fna'\n",
    "block_size = 1000\n",
    "gc_thresh = 0.45\n",
    "desc, seq = reader(file_name)\n",
    "#print (_ , len(seq))\n",
    "salmo_seq_mapped = gc_map(seq, block_size, gc_thresh)\n",
    "#len(salmo_seq_mapped)"
   ]
  },
  {
   "cell_type": "markdown",
   "metadata": {},
   "source": [
    "#### 2.3.d"
   ]
  },
  {
   "cell_type": "code",
   "execution_count": 12,
   "metadata": {},
   "outputs": [],
   "source": [
    "# writing descriptor into file with newline char at evry 60 line\n",
    "with open('salmonella_spi1_region_mapped.fna', 'w') as f:\n",
    "    f.write(desc)\n",
    "    i=0\n",
    "    while i < len(salmo_seq_mapped):\n",
    "        f.write(salmo_seq_mapped[i:i+60])\n",
    "        f.write(\"\\n\")\n",
    "        i+=60"
   ]
  },
  {
   "cell_type": "markdown",
   "metadata": {},
   "source": [
    "#### 2.4.a"
   ]
  },
  {
   "cell_type": "code",
   "execution_count": 133,
   "metadata": {},
   "outputs": [
    {
     "data": {
      "text/plain": [
       "[['ATG', 'ACT', 'ACG', 'TAG', 'ATT', 'AGC', 'GAA', 'CTT'],\n",
       " ['TGA', 'CTA', 'CGT', 'AGA', 'TTA', 'GCG', 'AAC'],\n",
       " ['GAC', 'TAC', 'GTA', 'GAT', 'TAG', 'CGA', 'ACT']]"
      ]
     },
     "execution_count": 133,
     "metadata": {},
     "output_type": "execute_result"
    }
   ],
   "source": [
    "def segger(seq):\n",
    "    \"\"\"partition the sequence into 3 reading frames, made it to use for longest_orf function. \"\"\"\n",
    "    frames=[]\n",
    "    k = 0\n",
    "    \n",
    "    #3 loops for 3 reading frames.\n",
    "    while k < 3:\n",
    "        i = k\n",
    "        frame=[]\n",
    "        #frame.append(seq[:i])\n",
    "        \n",
    "        #if the length of the segment is 3, it is a complete codon (not at any of the extremities.). This way I don't end up with 1 or 2 letter code as a codon.\n",
    "        # append to frame. frame is a list of codons of the current reading frame, covering the full sequence. This will be later appended fully to frames\n",
    "        \n",
    "        while i < len(seq):\n",
    "            if len(seq[i:i+3]) == 3:\n",
    "                frame.append(seq[i:i+3])\n",
    "            i += 3\n",
    "            \n",
    "        # frames will contain the 3 reading frames. \n",
    "        frames.append(frame)\n",
    "        k += 1\n",
    "    return frames\n",
    "\n",
    "seq = 'ATGACTACGTAGATTAGCGAACTT'\n",
    "segger(seq)    "
   ]
  },
  {
   "cell_type": "code",
   "execution_count": 134,
   "metadata": {},
   "outputs": [
    {
     "data": {
      "text/plain": [
       "'ATGATGATGTAA'"
      ]
     },
     "execution_count": 134,
     "metadata": {},
     "output_type": "execute_result"
    }
   ],
   "source": [
    "#making a tuple of start and stop codons\n",
    "start_codon = ('ATG')\n",
    "stop_codon = ('TGA','TAG','TAA')\n",
    "\n",
    "def longest_orf(seq):\n",
    "    \"\"\" For each frame, find every ORF and store them in a master list, containing ORF strings. \n",
    "        Then at the end find the longest ORF and print it out.\"\"\"\n",
    "    #Making sure I get a uniform sequence, all uppercase. in case we use a mapped sequence\n",
    "    seq = seq.upper()\n",
    "    \n",
    "    # 3 loops for the 3 reading frames. Current frame list is stored in frame_use.\n",
    "    j = 0\n",
    "    orf_list = []\n",
    "    while j < 3:\n",
    "        orf = ''\n",
    "        frame_use = segger(seq)[j]\n",
    "        #print (\"frame_use length\", len(frame_use), len(seq))\n",
    "        \n",
    "        #i is index of the current codon in frame_use. This is needed later to define k's value. For every codon, check if codon is a start codon\n",
    "        # if yes, define k with i. A while loop will go through and store the open reading frames.\n",
    "        for i, codon in enumerate(frame_use):\n",
    "            #|print (j, i, codon)\n",
    "            if codon in start_codon:\n",
    "                codon_sub = codon\n",
    "                orf = ''\n",
    "                k = i\n",
    "                #print (\"orf\", orf, k)\n",
    "                \n",
    "                #start a loop to go through every codon after the current codon, which is a start codon. Check every frame if it's a stop codon.\n",
    "                # as long as it doesn't encounter a stop codon, loop continues and frame_use[k] is stored in orf. If it encounters a stop codon, break.\n",
    "                while k <= len(frame_use):\n",
    "                    if frame_use[k] in stop_codon:\n",
    "                        orf += frame_use[k]\n",
    "                        break\n",
    "                    orf += frame_use[k]\n",
    "                    k += 1\n",
    "                    #print (\"k here\", k)\n",
    "                    \n",
    "                # append every orf to a master orf_list.\n",
    "                orf_list.append(orf)\n",
    "        j += 1\n",
    "    return max(orf_list, default=\"None found\", key=len)\n",
    "\n",
    "seq1 = 'ATGACTACGTAATAGATTAGCTGAGAACTT'\n",
    "seq2 = 'ATGACTACGTGGATGAATGTAGATTAGCTAGTGAGAACTT'\n",
    "seq3 = 'GGATGATGATGTAAAAC'\n",
    "longest_orf(seq3)"
   ]
  },
  {
   "cell_type": "code",
   "execution_count": 39,
   "metadata": {},
   "outputs": [
    {
     "data": {
      "text/plain": [
       "'A'"
      ]
     },
     "execution_count": 39,
     "metadata": {},
     "output_type": "execute_result"
    }
   ],
   "source": [
    "#testing the built-in max function\n",
    "seq1 = ['ATGACTACGTAATAGATTAGCTGAGAACTT','ATGAAACTGAGAACTT', 'ATGATGATGATG']\n",
    "max(seq1, key=len)\n",
    "max(longest_orf(seq2), default='None found', key=len)"
   ]
  },
  {
   "cell_type": "markdown",
   "metadata": {},
   "source": [
    "#### 2.4.b"
   ]
  },
  {
   "cell_type": "code",
   "execution_count": 40,
   "metadata": {},
   "outputs": [
    {
     "data": {
      "text/plain": [
       "'ATGACCAACTACAGCCTGCGCGCACGCATGATGATTCTGATCCTGGCCCCGACCGTCCTGATAGGTTTGCTGCTCAGTATCTTTTTTGTAGTGCACCGCTATAACGACCTGCAGCGTCAACTGGAAGATGCCGGCGCCAGTATTATTGAACCGCTCGCCGTCTCCAGCGAATATGGTATGAACTTACAAAACCGGGAGTCTATCGGCCAACTTATCAGCGTCCTGCACCGCAGACACTCTGATATTGTGCGGGCGATTTCCGTTTATGACGATCATAACCGTCTGTTTGTAACGTCTAATTTCCATCTGGACCCCTCACAGATGCAGCTTCCCGCCGGAGCGCCGTTTCCACGTCGTCTGAGCGTTGATCGCCACGGCGATATTATGATTCTGCGCACCCCAATTATCTCGGAGAGCTATTCGCCGGACGAGTCAGCGATTGCTGACGCGAAAAATACCAAAAATATGCTGGGGTATGTGGCGCTTGAACTGGATCTCAAGTCGGTCAGGCTACAGCAATACAAAGAGATTTTTATCTCCAGCGTGATGATGCTTTTTTGTATTGGCATTGCGCTGATCTTTGGCTGGCGGCTTATGCGCGATGTCACCGGGCCTATCCGTAATATGGTGAATACCGTTGACCGCATTCGCCGCGGACAACTGGATAGCCGGGTGGAAGGATTTATGCTGGGCGAACTGGATATGCTGAAAAACGGCATTAATTCCATGGCGATGTCGCTTGCCGCCTATCACGAAGAGATGCAGCATAATATCGATCAGGCCACTTCGGACCTGCGTGAAACCCTTGAGCAGATGGAAATCCAAAACGTTGAGCTGGATCTGGCGAAAAAGCGTGCCCAGGAAGCGGCGCGTATTAAGTCGGAGTTCCTGGCGAACATGTCGCACGAACTGCGAACGCCGCTGAACGGCGTCATTGGCTTTACCCGCCTGACATTAAAAACGGAGCTGAATCCCACCCAGCGCGACCATCTGAACACCATTGAGCGTTCCGCGAATAATCTGCTGGCGATCATTAATGACGTGCTTGATTTCTCCAAGCTGGAAGCCGGTAAGCTCATTCTGGAAAGTATCCCTTTTCCACTGCGTAATACGCTGGATGAAGTGGTTACGCTGCTGGCTCACTCGTCGCATGATAAAGGGCTGGAGTTGACGTTAAATATTAAAAACGACGTCCCGGATAATGTGATTGGCGACCCGCTGCGCCTGCAACAGGTCATTACTAATCTGGTGGGTAATGCCATTAAGTTCACCGAGAGTGGCAATATCGACATTCTGGTAGAAAAGCGGGCGCTCAGTAACACCAAAGTACAGATTGAAGTGCAGATCCGCGATACGGGGATCGGCATTCCGGAACGCGACCAGTCGCGACTGTTTCAGGCGTTTCGCCAGGCCGATGCCAGTATTTCTCGCCGTCACGGCGGCACCGGGCTTGGGCTGGTGATTACGCAAAAGCTGGTCAACGAAATGGGCGGGGATATCTCTTTCCACAGCCAGCCTAATCGCGGCTCGACCTTCTGGTTTCATATTAATCTTGATCTTAACCCAAATGTCATTATTGACGGGCCGTCGACCGCGTGTCTGGCCGGGAAACGGCTGGCTTATGTCGAACCGAATGCTACCGCCGCGCAATGTACCCTGGATCTACTGAGCGACACGCCGGTGGAGGTGGTTTACAGCCCGACCTTCTCCGCGCTGCCGTTAGCGCACTACGATATTATGATTTTGAGCGTTCCGGTGACCTTCCGCGAGCCGCTCACCATGCAGCATGAACGTCTGGCGAAAGCAGCGTCAATGACGGACTTTCTACTGCTGGCGCTACCTTGCCATGCGCAAATTAACGCCGAAAAGCTGAAACAAGGAGGCGCGGCGGCCTGTCTGTTAAAACCATTGACGTCAACGCGCCTGTTGCCAGCGCTGACGGAATATTGCCAGTTGAATCACCATCCTGAACCGCTGCTAATGGATACCAGTAAAATCACCATGACGGTTATGGCGGTTGATGATAATCCCGCTAATCTGAAGCTTATCGGCGCGTTACTGGAAGATAAAGTCCAGCACGTAGAGCTTTGTGATAGCGGACATCAGGCGGTGGATCGGGCGAAACAAATGCAGTTTGATCTGATTTTGATGGATATTCAGATGCCGGATATGGACGGCATACGCGCCTGCGAATTGATTCACCAGCTTCCTCATCAGCAGCAAACACCGGTTATTGCCGTTACGGCACATGCGATGGCCGGGCAAAAAGAGAAGTTGCTCAGCGCGGGCATGAACGACTATCTGGCTAAACCGATAGAAGAAGAGAAGTTGCATAATCTGTTGCTGCGCTATAAACCTGGCGCCAACGTAGCAGCGCGCCTGATGGCGCCGGAACCAGCTGAATTTATCTTCAATCCGAATGCAACGCTCGACTGGCAGCTTGCGCTCCGCCAGGCTGCCGGTAAGCCCGATCTGGCGCGGGATATGCTGCAAATGCTGATTGATTTTCTGCCGGAAGTGCGCAACAAAATTGAAGAACAACTGGTGGGAGAAAATCCCAACGGCCTGGTCGATCTGGTCCATAAGCTACACGGGAGCTGCGGCTATAGCGGCGTACCGCGGATGAAGAACCTTTGCCAGCTTATTGAGCAACAGCTTCGCAGCGGCGTCCACGAAGAGGAGCTGGAGCCTGAGTTTCTGGAGCTGCTGGATGAGATGGATAATGTCGCGCGTGAAGCGAAGAAGATATTAGGCTGA'"
      ]
     },
     "execution_count": 40,
     "metadata": {},
     "output_type": "execute_result"
    }
   ],
   "source": [
    "# specifying file name and executing function\n",
    "file_name = '../../git/bootcamp/data/salmonella_spi1_region.fna'\n",
    "desc, seq = reader(file_name)\n",
    "\n",
    "longest_orf(seq)"
   ]
  },
  {
   "cell_type": "markdown",
   "metadata": {},
   "source": [
    "#### 2.4.c"
   ]
  },
  {
   "cell_type": "code",
   "execution_count": 42,
   "metadata": {},
   "outputs": [
    {
     "data": {
      "text/plain": [
       "'MTNYSLRARMMILILAPTVLIGLLLSIFFVVHRYNDLQRQLEDAGASIIEPLAVSSEYGMNLQNRESIGQLISVLHRRHSDIVRAISVYDDHNRLFVTSNFHLDPSQMQLPAGAPFPRRLSVDRHGDIMILRTPIISESYSPDESAIADAKNTKNMLGYVALELDLKSVRLQQYKEIFISSVMMLFCIGIALIFGWRLMRDVTGPIRNMVNTVDRIRRGQLDSRVEGFMLGELDMLKNGINSMAMSLAAYHEEMQHNIDQATSDLRETLEQMEIQNVELDLAKKRAQEAARIKSEFLANMSHELRTPLNGVIGFTRLTLKTELNPTQRDHLNTIERSANNLLAIINDVLDFSKLEAGKLILESIPFPLRNTLDEVVTLLAHSSHDKGLELTLNIKNDVPDNVIGDPLRLQQVITNLVGNAIKFTESGNIDILVEKRALSNTKVQIEVQIRDTGIGIPERDQSRLFQAFRQADASISRRHGGTGLGLVITQKLVNEMGGDISFHSQPNRGSTFWFHINLDLNPNVIIDGPSTACLAGKRLAYVEPNATAAQCTLDLLSDTPVEVVYSPTFSALPLAHYDIMILSVPVTFREPLTMQHERLAKAASMTDFLLLALPCHAQINAEKLKQGGAAACLLKPLTSTRLLPALTEYCQLNHHPEPLLMDTSKITMTVMAVDDNPANLKLIGALLEDKVQHVELCDSGHQAVDRAKQMQFDLILMDIQMPDMDGIRACELIHQLPHQQQTPVIAVTAHAMAGQKEKLLSAGMNDYLAKPIEEEKLHNLLLRYKPGANVAARLMAPEPAEFIFNPNATLDWQLALRQAAGKPDLARDMLQMLIDFLPEVRNKIEEQLVGENPNGLVDLVHKLHGSCGYSGVPRMKNLCQLIEQQLRSGVHEEELEPEFLELLDEMDNVAREAKKILG*'"
      ]
     },
     "execution_count": 42,
     "metadata": {},
     "output_type": "execute_result"
    }
   ],
   "source": [
    "#making a dictionary of codon to one letter amino acid\n",
    "aa_dict=dict(zip(bootcamp_utils.codon_list, bootcamp_utils.amino_acids))\n",
    "\n",
    "def translator(seq):\n",
    "    \"\"\"DNA seq to protein seq translator, using dictionary built from bootcamp.utils\"\"\"\n",
    "    \n",
    "    #make every 3 base go through the dictionary to get its amino acid assigned and save it in prot_seq string\n",
    "    i = 0\n",
    "    prot_seq = ''\n",
    "    while i < len(seq):\n",
    "        prot_seq += aa_dict[seq[i:i+3]]\n",
    "        i += 3\n",
    "    return prot_seq\n",
    "        \n",
    "translator(longest_orf(seq))"
   ]
  },
  {
   "cell_type": "markdown",
   "metadata": {},
   "source": [
    "MULTISPECIES: two-component sensor histidine kinase BarA [Salmonella]"
   ]
  },
  {
   "cell_type": "markdown",
   "metadata": {},
   "source": [
    "#### 2.4.e"
   ]
  },
  {
   "cell_type": "code",
   "execution_count": 139,
   "metadata": {},
   "outputs": [],
   "source": [
    "start_codon = ('ATG')\n",
    "stop_codon = ('TGA','TAG','TAA')\n",
    "\n",
    "#almost the same function as above. Since I made a master list of all orfs, I can sort through them to pick the n longest orfs and print them out.\n",
    "# second argument n is now required. n is the number of longest orfs wanted by user.\n",
    "def longest_orf_n(seq,n):\n",
    "    \"\"\" For each frame, find every ORF and store them in a master list, containing ORF strings. \n",
    "        Then at the end find the 5 longest ORF and print it out.\"\"\"\n",
    "    seq = seq.upper()\n",
    "    j = 0\n",
    "    orf_list = []\n",
    "    while j < 3:\n",
    "        #orf_list = []\n",
    "        orf = ''\n",
    "        \n",
    "        frame_use = segger(seq)[j]\n",
    "        #print (\"frame_use length\", len(frame_use), len(seq))\n",
    "        for i, codon in enumerate(frame_use):\n",
    "            #|print (j, i, codon)\n",
    "            if codon in start_codon:\n",
    "                codon_sub = codon\n",
    "                orf = ''\n",
    "                k = i\n",
    "                #print (\"orf\", orf, k)\n",
    "                while k < len(frame_use)-1:\n",
    "                    if frame_use[k] in stop_codon:\n",
    "                        orf +=frame_use[k]\n",
    "                        break\n",
    "                    orf += frame_use[k]\n",
    "                    k += 1\n",
    "                    #print (\"k here\", k)\n",
    "                orf_list.append(orf)\n",
    "        j += 1\n",
    "        \n",
    "    # At this point the orf_list contains all orfs. \n",
    "    # Now to sort through and pick the longest ones. Final return variable is a master list maxn.\n",
    "    p = 0\n",
    "    orf_tuple = tuple(orf_list)\n",
    "    \n",
    "    # .sort(reverse=True, key=len) sorts the list in order of the longest length string to shortest. Most important part\n",
    "    \n",
    "    orf_list.sort(reverse=True, key=len)\n",
    "    #print (orf_list)\n",
    "    maxn =[]\n",
    "    \n",
    "    #Just some handler attempts for any bad input. If it's not a number, raise error. If the n value is longer than the # of total orf, take n as total # of orfs\n",
    "    if not int(n): \n",
    "        print (\"Not an integer.\")\n",
    "        raise\n",
    "    elif int(n) > len(orf_list):\n",
    "        print(\"Too long. showing all orfs\")\n",
    "        n = len(orf_list) \n",
    "        \n",
    "    # Append n elements of orf_list (which is now in longest to shortest order) to maxn master list.\n",
    "    while p < int(n):\n",
    "        maxn.append(orf_list[p])\n",
    "        p += 1\n",
    "    return maxn\n",
    "\n",
    "seq1 = 'ATGACTACGTAATAGATTAGCTGAGAACTT'\n",
    "seq2 = 'ATGTGAACTACGTGGATGAATGTAGATTAGCTAGTGAGAACTT'\n",
    "seq3 = 'GGATGATGATGTAAAAC'\n",
    "#print(longest_orf_5(seq2))"
   ]
  },
  {
   "cell_type": "code",
   "execution_count": 142,
   "metadata": {},
   "outputs": [
    {
     "name": "stdin",
     "output_type": "stream",
     "text": [
      "Please input the value of n: 5\n"
     ]
    }
   ],
   "source": [
    "file_name = '../../git/bootcamp/data/salmonella_spi1_region.fna'\n",
    "desc, seq = reader(file_name)\n",
    "\n",
    "#prompt user for desired input of n. assign the returned master list to maxn.\n",
    "n = input('Please input the value of n:')\n",
    "maxn = longest_orf_n(seq,n)\n",
    "\n",
    "#write a header text and write every element of maxn into output file    \n",
    "with open('exercise2_result.txt', 'w') as f:\n",
    "    f.write(\"Results of exercise 2.4.e\\n\")\n",
    "    i = 0\n",
    "    for i in range(int(n)):\n",
    "        f.write('Protein:' + str(i+1) + \"\\n\" + translator(maxn[i]) + \"\\n\")\n",
    "    "
   ]
  },
  {
   "cell_type": "code",
   "execution_count": null,
   "metadata": {},
   "outputs": [],
   "source": []
  }
 ],
 "metadata": {
  "kernelspec": {
   "display_name": "Python 3",
   "language": "python",
   "name": "python3"
  },
  "language_info": {
   "codemirror_mode": {
    "name": "ipython",
    "version": 3
   },
   "file_extension": ".py",
   "mimetype": "text/x-python",
   "name": "python",
   "nbconvert_exporter": "python",
   "pygments_lexer": "ipython3",
   "version": "3.7.7"
  }
 },
 "nbformat": 4,
 "nbformat_minor": 4
}
