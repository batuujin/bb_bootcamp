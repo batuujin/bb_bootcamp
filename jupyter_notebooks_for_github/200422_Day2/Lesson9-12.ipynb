{
 "cells": [
  {
   "cell_type": "markdown",
   "metadata": {},
   "source": [
    "Day 2\n",
    "-"
   ]
  },
  {
   "cell_type": "markdown",
   "metadata": {},
   "source": [
    "### Lesson 10: Dictionaries (hash tables)"
   ]
  },
  {
   "cell_type": "code",
   "execution_count": 2,
   "metadata": {},
   "outputs": [
    {
     "data": {
      "text/plain": [
       "{'a': 6, 'b': 7, 'c': 27.6}"
      ]
     },
     "execution_count": 2,
     "metadata": {},
     "output_type": "execute_result"
    }
   ],
   "source": [
    "my_dict = {'a': 6, 'b': 7, 'c': 27.6}\n",
    "my_dict"
   ]
  },
  {
   "cell_type": "markdown",
   "metadata": {},
   "source": [
    "#### Useful dictionaries in bioinformatics"
   ]
  },
  {
   "cell_type": "code",
   "execution_count": 3,
   "metadata": {},
   "outputs": [],
   "source": [
    "aa_dict = {'A': 'Ala',\n",
    "           'R': 'Arg',\n",
    "           'N': 'Asn',\n",
    "           'D': 'Asp',\n",
    "           'C': 'Cys',\n",
    "           'Q': 'Gln',\n",
    "           'E': 'Glu',\n",
    "           'G': 'Gly',\n",
    "           'H': 'His',\n",
    "           'I': 'Ile',\n",
    "           'L': 'Leu',\n",
    "           'K': 'Lys',\n",
    "           'M': 'Met',\n",
    "           'F': 'Phe',\n",
    "           'P': 'Pro',\n",
    "           'S': 'Ser',\n",
    "           'T': 'Thr',\n",
    "           'W': 'Trp',\n",
    "           'Y': 'Tyr',\n",
    "           'V': 'Val'}"
   ]
  },
  {
   "cell_type": "code",
   "execution_count": 4,
   "metadata": {},
   "outputs": [
    {
     "name": "stdout",
     "output_type": "stream",
     "text": [
      "{'TTT': 'F', 'TTC': 'F', 'TTA': 'L', 'TTG': 'L', 'TCT': 'S', 'TCC': 'S', 'TCA': 'S', 'TCG': 'S', 'TAT': 'Y', 'TAC': 'Y', 'TAA': '*', 'TAG': '*', 'TGT': 'C', 'TGC': 'C', 'TGA': '*', 'TGG': 'W', 'CTT': 'L', 'CTC': 'L', 'CTA': 'L', 'CTG': 'L', 'CCT': 'P', 'CCC': 'P', 'CCA': 'P', 'CCG': 'P', 'CAT': 'H', 'CAC': 'H', 'CAA': 'Q', 'CAG': 'Q', 'CGT': 'R', 'CGC': 'R', 'CGA': 'R', 'CGG': 'R', 'ATT': 'I', 'ATC': 'I', 'ATA': 'I', 'ATG': 'M', 'ACT': 'T', 'ACC': 'T', 'ACA': 'T', 'ACG': 'T', 'AAT': 'N', 'AAC': 'N', 'AAA': 'K', 'AAG': 'K', 'AGT': 'S', 'AGC': 'S', 'AGA': 'R', 'AGG': 'R', 'GTT': 'V', 'GTC': 'V', 'GTA': 'V', 'GTG': 'V', 'GCT': 'A', 'GCC': 'A', 'GCA': 'A', 'GCG': 'A', 'GAT': 'D', 'GAC': 'D', 'GAA': 'E', 'GAG': 'E', 'GGT': 'G', 'GGC': 'G', 'GGA': 'G', 'GGG': 'G'}\n"
     ]
    }
   ],
   "source": [
    "# The set of DNA bases\n",
    "bases = ['T', 'C', 'A', 'G']\n",
    "\n",
    "# Build list of codons\n",
    "codon_list = []\n",
    "for first_base in bases:\n",
    "    for second_base in bases:\n",
    "        for third_base in bases:\n",
    "            codon_list += [first_base + second_base + third_base]\n",
    "\n",
    "# The amino acids that are coded for (* = STOP codon)\n",
    "amino_acids = 'FFLLSSSSYY**CC*WLLLLPPPPHHQQRRRRIIIMTTTTNNKKSSRRVVVVAAAADDEEGGGG'\n",
    "\n",
    "# Build dictionary from tuple of 2-tuples (technically an iterator, but it works)\n",
    "codons = dict(zip(codon_list, amino_acids))\n",
    "\n",
    "# Show that we did it\n",
    "print(codons)"
   ]
  },
  {
   "cell_type": "code",
   "execution_count": 5,
   "metadata": {},
   "outputs": [
    {
     "data": {
      "text/plain": [
       "{'a': 6, 'b': 7, 'c': 27.6}"
      ]
     },
     "execution_count": 5,
     "metadata": {},
     "output_type": "execute_result"
    }
   ],
   "source": [
    "#Note, however, that like lists, the items that come out of the my_dict.items() iterator are not items in the dictionary, but copies of them. \n",
    "#If you make changes within the for loop, you will not change entries in the dictionary.\n",
    "\n",
    "for key, value in my_dict.items():\n",
    "    value = 'this string will not be in dictionary.'\n",
    "    \n",
    "my_dict"
   ]
  },
  {
   "cell_type": "code",
   "execution_count": 7,
   "metadata": {},
   "outputs": [
    {
     "name": "stdout",
     "output_type": "stream",
     "text": [
      "this will be in the dictionary.\n",
      "this will be in the dictionary.\n",
      "this will be in the dictionary.\n"
     ]
    },
    {
     "data": {
      "text/plain": [
       "{'a': 'this will be in the dictionary.',\n",
       " 'b': 'this will be in the dictionary.',\n",
       " 'c': 'this will be in the dictionary.'}"
      ]
     },
     "execution_count": 7,
     "metadata": {},
     "output_type": "execute_result"
    }
   ],
   "source": [
    "for key, _ in my_dict.items():\n",
    "    my_dict[key] = 'this will be in the dictionary.'\n",
    "    print (_)\n",
    "my_dict"
   ]
  },
  {
   "cell_type": "markdown",
   "metadata": {},
   "source": [
    "#### Built-in functions for dictionaries"
   ]
  },
  {
   "cell_type": "code",
   "execution_count": 8,
   "metadata": {},
   "outputs": [
    {
     "name": "stdout",
     "output_type": "stream",
     "text": [
      "my_dict: {'a': 1, 'b': 2, 'c': 3, 'd': 4}\n",
      "my_list: [1, 2, 3, 4]\n",
      "length of my_dict: 4\n",
      "length of my_list: 4\n",
      "post-deleted my_dict: {'a': 1, 'c': 3, 'd': 4}\n",
      "post-deleted my_list: [1, 3, 4]\n"
     ]
    }
   ],
   "source": [
    "# Create my_list and my_dict for reference\n",
    "my_dict = dict(a=1, b=2, c=3, d=4)\n",
    "my_list = [1, 2, 3, 4]\n",
    "\n",
    "# Print them\n",
    "print('my_dict:', my_dict)\n",
    "print('my_list:', my_list)\n",
    "\n",
    "# Get lengths\n",
    "print('length of my_dict:', len(my_dict))\n",
    "print('length of my_list:', len(my_list))\n",
    "\n",
    "# Delete a key from my_dict\n",
    "del my_dict['b']\n",
    "\n",
    "# Delete entry from my_list\n",
    "del my_list[1]\n",
    "\n",
    "# Show post-deleted objects\n",
    "print('post-deleted my_dict:', my_dict)\n",
    "print('post-deleted my_list:', my_list)"
   ]
  },
  {
   "cell_type": "markdown",
   "metadata": {},
   "source": [
    "method\teffect\n",
    "d.keys()\treturn keys\n",
    "d.pop(key)\treturn value associated with key and delete key from d\n",
    "d.values()\treturn the values in d"
   ]
  },
  {
   "cell_type": "code",
   "execution_count": 10,
   "metadata": {},
   "outputs": [
    {
     "data": {
      "text/plain": [
       "'TGACACCAGGGAGGGGGGGGGAAAATTTTT'"
      ]
     },
     "execution_count": 10,
     "metadata": {},
     "output_type": "execute_result"
    }
   ],
   "source": [
    "\"\"\"Using dictionaries as kwargs\n",
    "A nifty feature of dictionaries is that they can be passed into functions as keyword arguments. \n",
    "We covered named keyword arguments in the Intro to functions lesson. \n",
    "In addition to the named keyword arguments, a function can take in arbitrary keyword arguments (not arbitrary non-keyword arguments). \n",
    "This is specified in the function definition by including a last argument with a double-asterisk, **. \n",
    "The kwargs with the double-asterisk get passed in as a dictionary.\"\"\"\n",
    "\n",
    "def concatenate_sequences(a, b, **kwargs):\n",
    "    \"\"\"Concatenate (combine) 2 or more sequences.\"\"\"\n",
    "    seq = a + b\n",
    "\n",
    "    for key in kwargs:\n",
    "        seq += kwargs[key]\n",
    "        \n",
    "    return seq\n",
    "#Let's try it!\n",
    "\n",
    "concatenate_sequences('TGACAC', 'CAGGGA', c='GGGGGGGGG', d='AAAATTTTT')\n",
    "'TGACACCAGGGAGGGGGGGGGAAAATTTTT'\n",
    "#Now, imagine we have a dictionary that contains our values.\n",
    "\n",
    "my_dict = {'a': 'TGACAC', \n",
    "           'b': 'CAGGGA', \n",
    "           'c': 'GGGGGGGGG', \n",
    "           'd': 'AAAATTTTT'}\n",
    "#We can now pass this directly into the function by preceding it with a double asterisk.\n",
    "\n",
    "concatenate_sequences(**my_dict)\n",
    "'TGACACCAGGGAGGGGGGGGGAAAATTTTT'\n",
    "#Beautiful! This example is kind of trivial, but you can imagine that it can come in handy, e.g. with large sets of sequence fragments that you read in from a file. We will use **kwargs later in the bootcamp."
   ]
  },
  {
   "cell_type": "code",
   "execution_count": 11,
   "metadata": {},
   "outputs": [],
   "source": [
    "import numpy as np\n"
   ]
  },
  {
   "cell_type": "code",
   "execution_count": 13,
   "metadata": {},
   "outputs": [
    {
     "name": "stdout",
     "output_type": "stream",
     "text": [
      "3.0\n",
      "3.0\n"
     ]
    }
   ],
   "source": [
    "print(np.mean([1,2,3,4,5]))\n",
    "print(np.median([1,2,3,4,5]))"
   ]
  },
  {
   "cell_type": "code",
   "execution_count": 15,
   "metadata": {},
   "outputs": [
    {
     "data": {
      "text/plain": [
       "<function numpy.mean(a, axis=None, dtype=None, out=None, keepdims=<no value>)>"
      ]
     },
     "execution_count": 15,
     "metadata": {},
     "output_type": "execute_result"
    }
   ],
   "source": [
    "np.mean"
   ]
  },
  {
   "cell_type": "code",
   "execution_count": 2,
   "metadata": {},
   "outputs": [
    {
     "data": {
      "text/plain": [
       "'GACGAUCUAGGCGACCGACUGGCAUCG'"
      ]
     },
     "execution_count": 2,
     "metadata": {},
     "output_type": "execute_result"
    }
   ],
   "source": [
    "import na_savenya as na\n",
    "\n",
    "# Sequence\n",
    "seq = 'GACGATCTAGGCGACCGACTGGCATCG'\n",
    "\n",
    "# Convert to RNA\n",
    "na.dna_to_rna(seq)"
   ]
  },
  {
   "cell_type": "code",
   "execution_count": null,
   "metadata": {},
   "outputs": [],
   "source": []
  }
 ],
 "metadata": {
  "kernelspec": {
   "display_name": "Python 3",
   "language": "python",
   "name": "python3"
  },
  "language_info": {
   "codemirror_mode": {
    "name": "ipython",
    "version": 3
   },
   "file_extension": ".py",
   "mimetype": "text/x-python",
   "name": "python",
   "nbconvert_exporter": "python",
   "pygments_lexer": "ipython3",
   "version": "3.7.7"
  }
 },
 "nbformat": 4,
 "nbformat_minor": 4
}
