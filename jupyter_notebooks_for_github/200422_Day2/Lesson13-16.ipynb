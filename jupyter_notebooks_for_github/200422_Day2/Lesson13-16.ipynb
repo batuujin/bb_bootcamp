{
 "cells": [
  {
   "cell_type": "markdown",
   "metadata": {},
   "source": [
    "Day 2\n",
    "-"
   ]
  },
  {
   "cell_type": "markdown",
   "metadata": {},
   "source": [
    "### Lesson 13 File I/O"
   ]
  },
  {
   "cell_type": "code",
   "execution_count": 1,
   "metadata": {},
   "outputs": [],
   "source": [
    "import os\n",
    "import glob"
   ]
  },
  {
   "cell_type": "code",
   "execution_count": 30,
   "metadata": {},
   "outputs": [
    {
     "name": "stdout",
     "output_type": "stream",
     "text": [
      "<class '_io.TextIOWrapper'>\n"
     ]
    }
   ],
   "source": [
    "with open('../../git/bootcamp/data/1OLG.pdb', 'r') as f:\n",
    "    print(type(f))\n",
    "    f_list=f.readlines()\n",
    "    f_list2=f.readlines()"
   ]
  },
  {
   "cell_type": "code",
   "execution_count": 32,
   "metadata": {},
   "outputs": [
    {
     "data": {
      "text/plain": [
       "['HEADER    ANTI-ONCOGENE                           13-JUN-94   1OLG              \\n',\n",
       " 'TITLE     HIGH-RESOLUTION SOLUTION STRUCTURE OF THE OLIGOMERIZATION             \\n',\n",
       " 'TITLE    2 DOMAIN OF P53 BY MULTI-DIMENSIONAL NMR                               \\n',\n",
       " 'COMPND    MOL_ID: 1;                                                            \\n',\n",
       " 'COMPND   2 MOLECULE: TUMOR SUPPRESSOR P53 (OLIGOMERIZATION DOMAIN);             \\n',\n",
       " 'COMPND   3 CHAIN: A, B, C, D;                                                   \\n',\n",
       " 'COMPND   4 ENGINEERED: YES                                                      \\n',\n",
       " 'SOURCE    MOL_ID: 1;                                                            \\n',\n",
       " 'SOURCE   2 ORGANISM_SCIENTIFIC: HOMO SAPIENS;                                   \\n',\n",
       " 'SOURCE   3 ORGANISM_COMMON: HUMAN;                                              \\n']"
      ]
     },
     "execution_count": 32,
     "metadata": {},
     "output_type": "execute_result"
    }
   ],
   "source": [
    "f_list[0:10]"
   ]
  },
  {
   "cell_type": "code",
   "execution_count": 33,
   "metadata": {},
   "outputs": [
    {
     "name": "stdout",
     "output_type": "stream",
     "text": [
      "HEADER    ANTI-ONCOGENE                           13-JUN-94   1OLG\n",
      "TITLE     HIGH-RESOLUTION SOLUTION STRUCTURE OF THE OLIGOMERIZATION\n",
      "TITLE    2 DOMAIN OF P53 BY MULTI-DIMENSIONAL NMR\n",
      "COMPND    MOL_ID: 1;\n",
      "COMPND   2 MOLECULE: TUMOR SUPPRESSOR P53 (OLIGOMERIZATION DOMAIN);\n",
      "COMPND   3 CHAIN: A, B, C, D;\n",
      "COMPND   4 ENGINEERED: YES\n",
      "SOURCE    MOL_ID: 1;\n",
      "SOURCE   2 ORGANISM_SCIENTIFIC: HOMO SAPIENS;\n",
      "SOURCE   3 ORGANISM_COMMON: HUMAN;\n",
      "SOURCE   4 ORGANISM_TAXID: 9606\n"
     ]
    }
   ],
   "source": [
    "with open('../../git/bootcamp/data/1OLG.pdb', 'r') as f:\n",
    "    for i, line in enumerate(f):\n",
    "            print(line.rstrip())\n",
    "            if i>=10:\n",
    "                break"
   ]
  },
  {
   "cell_type": "code",
   "execution_count": 36,
   "metadata": {},
   "outputs": [
    {
     "name": "stdout",
     "output_type": "stream",
     "text": [
      "HEADER    ANTI-ONCOGENE                           13-JUN-94   1OLG\n",
      "TITLE     HIGH-RESOLUTION SOLUTION STRUCTURE OF THE OLIGOMERIZATION\n",
      "TITLE    2 DOMAIN OF P53 BY MULTI-DIMENSIONAL NMR\n",
      "COMPND    MOL_ID: 1;\n",
      "COMPND   2 MOLECULE: TUMOR SUPPRESSOR P53 (OLIGOMERIZATION DOMAIN);\n"
     ]
    }
   ],
   "source": [
    "with open('../../git/bootcamp/data/1OLG.pdb', 'r') as f:\n",
    "    i=0\n",
    "    while i <5:\n",
    "        print(f.readline().rstrip())\n",
    "        i +=1"
   ]
  },
  {
   "cell_type": "code",
   "execution_count": 37,
   "metadata": {},
   "outputs": [],
   "source": [
    "#f.seek() to rewind"
   ]
  },
  {
   "cell_type": "code",
   "execution_count": 38,
   "metadata": {},
   "outputs": [
    {
     "data": {
      "text/plain": [
       "True"
      ]
     },
     "execution_count": 38,
     "metadata": {},
     "output_type": "execute_result"
    }
   ],
   "source": [
    "os.path.isfile('../../git/bootcamp/data/1OLG.pdb')"
   ]
  },
  {
   "cell_type": "code",
   "execution_count": 48,
   "metadata": {},
   "outputs": [],
   "source": [
    "#if os.path.isfile('../../git/bootcamp/data/1OLG.pdb'):\n",
    "    #raise RuntimeError('File exists ya fool')\n",
    "    \n",
    "with open('../../git/bootcamp/data/mastery.txt', 'w') as f:\n",
    "    f.write('This here is my file.\\n')\n",
    "    f.write('There are many like it but this here is mine only')"
   ]
  },
  {
   "cell_type": "code",
   "execution_count": 62,
   "metadata": {},
   "outputs": [
    {
     "name": "stderr",
     "output_type": "stream",
     "text": [
      "The syntax of the command is incorrect.\n"
     ]
    }
   ],
   "source": []
  },
  {
   "cell_type": "code",
   "execution_count": 64,
   "metadata": {},
   "outputs": [
    {
     "ename": "TypeError",
     "evalue": "write() argument must be str, not float",
     "output_type": "error",
     "traceback": [
      "\u001b[1;31m---------------------------------------------------------------------------\u001b[0m",
      "\u001b[1;31mTypeError\u001b[0m                                 Traceback (most recent call last)",
      "\u001b[1;32m<ipython-input-64-647046468895>\u001b[0m in \u001b[0;36m<module>\u001b[1;34m\u001b[0m\n\u001b[0;32m      2\u001b[0m \u001b[1;32mwith\u001b[0m \u001b[0mopen\u001b[0m\u001b[1;33m(\u001b[0m\u001b[1;34m'gimme_phi.txt'\u001b[0m\u001b[1;33m,\u001b[0m \u001b[1;34m'w'\u001b[0m\u001b[1;33m)\u001b[0m \u001b[1;32mas\u001b[0m \u001b[0mf\u001b[0m\u001b[1;33m:\u001b[0m\u001b[1;33m\u001b[0m\u001b[1;33m\u001b[0m\u001b[0m\n\u001b[0;32m      3\u001b[0m     \u001b[0mf\u001b[0m\u001b[1;33m.\u001b[0m\u001b[0mwrite\u001b[0m\u001b[1;33m(\u001b[0m\u001b[1;34m'The golden ratio is phi = '\u001b[0m\u001b[1;33m)\u001b[0m\u001b[1;33m\u001b[0m\u001b[1;33m\u001b[0m\u001b[0m\n\u001b[1;32m----> 4\u001b[1;33m     \u001b[0mf\u001b[0m\u001b[1;33m.\u001b[0m\u001b[0mwrite\u001b[0m\u001b[1;33m(\u001b[0m\u001b[1;36m1.61803398875\u001b[0m\u001b[1;33m)\u001b[0m\u001b[1;33m\u001b[0m\u001b[1;33m\u001b[0m\u001b[0m\n\u001b[0m",
      "\u001b[1;31mTypeError\u001b[0m: write() argument must be str, not float"
     ]
    }
   ],
   "source": [
    "# This will result in an exception\n",
    "with open('gimme_phi.txt', 'w') as f:\n",
    "    f.write('The golden ratio is phi = ')\n",
    "    f.write(1.61803398875)"
   ]
  },
  {
   "cell_type": "code",
   "execution_count": 68,
   "metadata": {},
   "outputs": [
    {
     "name": "stdout",
     "output_type": "stream",
     "text": [
      "The golden ratio is phi = 1.61803399\n"
     ]
    }
   ],
   "source": [
    "# This will result in an exception\n",
    "with open('gimme_phi.txt', 'w') as f:\n",
    "    f.write('The golden ratio is phi = ')\n",
    "    f.write('{phi:.8f}'.format(phi=1.61803398875))\n",
    "    \n",
    "!type gimme_phi.txt"
   ]
  },
  {
   "cell_type": "markdown",
   "metadata": {},
   "source": [
    "#### An exercise: extract atomic coordinates for first chain in tetramer"
   ]
  },
  {
   "cell_type": "code",
   "execution_count": 69,
   "metadata": {},
   "outputs": [],
   "source": [
    "with open('../../git/bootcamp/data/1OLG.pdb', 'r') as f, open('atoms_chain_A.txt', 'w') as f_out:\n",
    "    # Put the ATOM lines from chain A in new file\n",
    "    for line in f:\n",
    "        if len(line) > 21 and line[:4] == 'ATOM' and line[21] == 'A':\n",
    "            f_out.write(line)"
   ]
  },
  {
   "cell_type": "code",
   "execution_count": 99,
   "metadata": {},
   "outputs": [
    {
     "name": "stderr",
     "output_type": "stream",
     "text": [
      "The syntax of the command is incorrect.\n"
     ]
    }
   ],
   "source": [
    "!type"
   ]
  },
  {
   "cell_type": "code",
   "execution_count": 105,
   "metadata": {},
   "outputs": [
    {
     "data": {
      "text/plain": [
       "['../../git/bootcamp/data\\\\1FAG.pdb',\n",
       " '../../git/bootcamp/data\\\\1J6Z.pdb',\n",
       " '../../git/bootcamp/data\\\\1OLG.pdb',\n",
       " '../../git/bootcamp/data\\\\2ERK.pdb']"
      ]
     },
     "execution_count": 105,
     "metadata": {},
     "output_type": "execute_result"
    }
   ],
   "source": [
    "file_list = glob.glob('../../git/bootcamp/data/*.pdb')\n",
    "\n",
    "file_list"
   ]
  },
  {
   "cell_type": "markdown",
   "metadata": {},
   "source": [
    "#### Finding files and with glob"
   ]
  },
  {
   "cell_type": "code",
   "execution_count": 107,
   "metadata": {},
   "outputs": [],
   "source": [
    "#Dictionary to hold sequences\n",
    "seqs={}\n",
    "\n",
    "for file_name in file_list:\n",
    "    pdb_id= file_name[file_name.find('\\\\')+1:file_name.rfind('.')]\n",
    "    \n",
    "    seq=''\n",
    "    with open(file_name, 'r') as f:\n",
    "            for line in f:\n",
    "                if len(line) > 11 and line[:6] == 'SEQRES' and line[11] == 'A':\n",
    "                    seq += line[19:].rstrip() + ' '\n",
    "    seq = '-'.join(seq.split())\n",
    "    \n",
    "    seqs[pdb_id] = seq"
   ]
  },
  {
   "cell_type": "code",
   "execution_count": 108,
   "metadata": {},
   "outputs": [
    {
     "data": {
      "text/plain": [
       "'ASP-GLU-ASP-GLU-THR-THR-ALA-LEU-VAL-CYS-ASP-ASN-GLY-SER-GLY-LEU-VAL-LYS-ALA-GLY-PHE-ALA-GLY-ASP-ASP-ALA-PRO-ARG-ALA-VAL-PHE-PRO-SER-ILE-VAL-GLY-ARG-PRO-ARG-HIS-GLN-GLY-VAL-MET-VAL-GLY-MET-GLY-GLN-LYS-ASP-SER-TYR-VAL-GLY-ASP-GLU-ALA-GLN-SER-LYS-ARG-GLY-ILE-LEU-THR-LEU-LYS-TYR-PRO-ILE-GLU-HIC-GLY-ILE-ILE-THR-ASN-TRP-ASP-ASP-MET-GLU-LYS-ILE-TRP-HIS-HIS-THR-PHE-TYR-ASN-GLU-LEU-ARG-VAL-ALA-PRO-GLU-GLU-HIS-PRO-THR-LEU-LEU-THR-GLU-ALA-PRO-LEU-ASN-PRO-LYS-ALA-ASN-ARG-GLU-LYS-MET-THR-GLN-ILE-MET-PHE-GLU-THR-PHE-ASN-VAL-PRO-ALA-MET-TYR-VAL-ALA-ILE-GLN-ALA-VAL-LEU-SER-LEU-TYR-ALA-SER-GLY-ARG-THR-THR-GLY-ILE-VAL-LEU-ASP-SER-GLY-ASP-GLY-VAL-THR-HIS-ASN-VAL-PRO-ILE-TYR-GLU-GLY-TYR-ALA-LEU-PRO-HIS-ALA-ILE-MET-ARG-LEU-ASP-LEU-ALA-GLY-ARG-ASP-LEU-THR-ASP-TYR-LEU-MET-LYS-ILE-LEU-THR-GLU-ARG-GLY-TYR-SER-PHE-VAL-THR-THR-ALA-GLU-ARG-GLU-ILE-VAL-ARG-ASP-ILE-LYS-GLU-LYS-LEU-CYS-TYR-VAL-ALA-LEU-ASP-PHE-GLU-ASN-GLU-MET-ALA-THR-ALA-ALA-SER-SER-SER-SER-LEU-GLU-LYS-SER-TYR-GLU-LEU-PRO-ASP-GLY-GLN-VAL-ILE-THR-ILE-GLY-ASN-GLU-ARG-PHE-ARG-CYS-PRO-GLU-THR-LEU-PHE-GLN-PRO-SER-PHE-ILE-GLY-MET-GLU-SER-ALA-GLY-ILE-HIS-GLU-THR-THR-TYR-ASN-SER-ILE-MET-LYS-CYS-ASP-ILE-ASP-ILE-ARG-LYS-ASP-LEU-TYR-ALA-ASN-ASN-VAL-MET-SER-GLY-GLY-THR-THR-MET-TYR-PRO-GLY-ILE-ALA-ASP-ARG-MET-GLN-LYS-GLU-ILE-THR-ALA-LEU-ALA-PRO-SER-THR-MET-LYS-ILE-LYS-ILE-ILE-ALA-PRO-PRO-GLU-ARG-LYS-TYR-SER-VAL-TRP-ILE-GLY-GLY-SER-ILE-LEU-ALA-SER-LEU-SER-THR-PHE-GLN-GLN-MET-TRP-ILE-THR-LYS-GLN-GLU-TYR-ASP-GLU-ALA-GLY-PRO-SER-ILE-VAL-HIS-ARG-LYS-CYS-PHE'"
      ]
     },
     "execution_count": 108,
     "metadata": {},
     "output_type": "execute_result"
    }
   ],
   "source": [
    "seqs['1J6Z']"
   ]
  },
  {
   "cell_type": "markdown",
   "metadata": {},
   "source": [
    "#### Lesson 14: Errors and Exception Handling"
   ]
  },
  {
   "cell_type": "code",
   "execution_count": 110,
   "metadata": {},
   "outputs": [],
   "source": [
    "import warnings\n",
    "import bootcamp_utils"
   ]
  },
  {
   "cell_type": "code",
   "execution_count": 112,
   "metadata": {},
   "outputs": [
    {
     "ename": "TypeError",
     "evalue": "'str' object does not support item assignment",
     "output_type": "error",
     "traceback": [
      "\u001b[1;31m---------------------------------------------------------------------------\u001b[0m",
      "\u001b[1;31mTypeError\u001b[0m                                 Traceback (most recent call last)",
      "\u001b[1;32m<ipython-input-112-926c11b43b83>\u001b[0m in \u001b[0;36m<module>\u001b[1;34m\u001b[0m\n\u001b[0;32m      1\u001b[0m \u001b[0mmy_str\u001b[0m\u001b[1;33m=\u001b[0m\u001b[1;34m'AGCTATC'\u001b[0m\u001b[1;33m\u001b[0m\u001b[1;33m\u001b[0m\u001b[0m\n\u001b[1;32m----> 2\u001b[1;33m \u001b[0mmy_str\u001b[0m\u001b[1;33m[\u001b[0m\u001b[1;36m3\u001b[0m\u001b[1;33m]\u001b[0m\u001b[1;33m=\u001b[0m\u001b[1;34m'G'\u001b[0m\u001b[1;33m\u001b[0m\u001b[1;33m\u001b[0m\u001b[0m\n\u001b[0m",
      "\u001b[1;31mTypeError\u001b[0m: 'str' object does not support item assignment"
     ]
    }
   ],
   "source": [
    "my_str='AGCTATC'\n",
    "my_str[3]='G'"
   ]
  },
  {
   "cell_type": "code",
   "execution_count": 118,
   "metadata": {},
   "outputs": [
    {
     "name": "stdout",
     "output_type": "stream",
     "text": [
      "We expect [1, 2, 3]\n",
      "We get    [1, 2, 3]\n",
      "[3, 2, 1, 3, 2, 1]\n"
     ]
    }
   ],
   "source": [
    "# A function to append a list onto itself, with the intention of \n",
    "# returning a new list, but leaving the input unaltered\n",
    "def double_list(in_list):\n",
    "    \"\"\"Append a list to itself.\"\"\"\n",
    "    in_list2 = in_list + in_list\n",
    "    return in_list2\n",
    "\n",
    "# Make a list\n",
    "my_list = [3, 2, 1]\n",
    "\n",
    "# Double it\n",
    "my_list_double = double_list(my_list)\n",
    "\n",
    "# Later on in our program, we want a sorted my_list\n",
    "my_list.sort()\n",
    "\n",
    "# Let's look at my_list:\n",
    "print('We expect [1, 2, 3]')\n",
    "print('We get   ', my_list)\n",
    "print(my_list_double)"
   ]
  },
  {
   "cell_type": "code",
   "execution_count": 119,
   "metadata": {},
   "outputs": [
    {
     "ename": "ModuleNotFoundError",
     "evalue": "No module named 'gc_content'",
     "output_type": "error",
     "traceback": [
      "\u001b[1;31m---------------------------------------------------------------------------\u001b[0m",
      "\u001b[1;31mModuleNotFoundError\u001b[0m                       Traceback (most recent call last)",
      "\u001b[1;32m<ipython-input-119-b2d775210337>\u001b[0m in \u001b[0;36m<module>\u001b[1;34m\u001b[0m\n\u001b[1;32m----> 1\u001b[1;33m \u001b[1;32mimport\u001b[0m \u001b[0mgc_content\u001b[0m\u001b[1;33m\u001b[0m\u001b[1;33m\u001b[0m\u001b[0m\n\u001b[0m",
      "\u001b[1;31mModuleNotFoundError\u001b[0m: No module named 'gc_content'"
     ]
    }
   ],
   "source": [
    "import gc_content"
   ]
  },
  {
   "cell_type": "code",
   "execution_count": 122,
   "metadata": {},
   "outputs": [
    {
     "name": "stdout",
     "output_type": "stream",
     "text": [
      "16\n"
     ]
    },
    {
     "name": "stderr",
     "output_type": "stream",
     "text": [
      "C:\\Users\\Batuujin\\anaconda3\\lib\\site-packages\\ipykernel_launcher.py:7: UserWarning: Failed to load gc_content so did my own foo\n",
      "  import sys\n"
     ]
    }
   ],
   "source": [
    "# Try to get the gc_content module\n",
    "try:\n",
    "    import gc_content\n",
    "    have_gc = True\n",
    "except ModuleNotFoundError as e:\n",
    "    have_gc = False\n",
    "    warnings.warn ('Failed to load gc_content so did my own foo')\n",
    "finally:\n",
    "    # Do whatever is necessary here, like close files\n",
    "    pass\n",
    "\n",
    "seq = 'ACGATCTACGATCAGCTGCGCGCATCG'\n",
    "    \n",
    "if have_gc:\n",
    "    print(gc_content(seq))\n",
    "else:\n",
    "    print(seq.count('G') + seq.count('C'))"
   ]
  },
  {
   "cell_type": "code",
   "execution_count": 123,
   "metadata": {},
   "outputs": [],
   "source": [
    "def one_to_three(seq):\n",
    "    \"\"\"\n",
    "    Converts a protein sequence using one-letter abbreviations\n",
    "    to one using three-letter abbreviations.\n",
    "    \"\"\"\n",
    "    # Convert seq to upper case\n",
    "    seq = seq.upper()\n",
    "    \n",
    "    aa_list = []\n",
    "    for amino_acid in seq:\n",
    "        # Check if the `amino_acid` is in our dictionary `bootcamp_utils.aa`\n",
    "        if amino_acid not in bootcamp_utils.aa.keys():\n",
    "            raise RuntimeError(f'{amino_acid} is not a valid amino acid')\n",
    "        # Add the `amino_acid` to our aa_list\n",
    "        aa_list.append(bootcamp_utils.aa[amino_acid])\n",
    "\n",
    "    # Return the amino acids, joined together, with a dash as a separator.\n",
    "    return '-'.join(aa_list)"
   ]
  },
  {
   "cell_type": "code",
   "execution_count": 124,
   "metadata": {},
   "outputs": [
    {
     "data": {
      "text/plain": [
       "'Trp-Ala-Glu-Ile-Phe-Asn-Ser-Asp-Phe-Lys-Leu-Asn-Ser-Ala-Glu'"
      ]
     },
     "execution_count": 124,
     "metadata": {},
     "output_type": "execute_result"
    }
   ],
   "source": [
    "one_to_three('waeifnsdfklnsae')"
   ]
  },
  {
   "cell_type": "code",
   "execution_count": 127,
   "metadata": {},
   "outputs": [
    {
     "ename": "RuntimeError",
     "evalue": "Z is not a valid amino acid",
     "output_type": "error",
     "traceback": [
      "\u001b[1;31m---------------------------------------------------------------------------\u001b[0m",
      "\u001b[1;31mRuntimeError\u001b[0m                              Traceback (most recent call last)",
      "\u001b[1;32m<ipython-input-127-96dc1e0f73c2>\u001b[0m in \u001b[0;36m<module>\u001b[1;34m\u001b[0m\n\u001b[1;32m----> 1\u001b[1;33m \u001b[0mone_to_three\u001b[0m\u001b[1;33m(\u001b[0m\u001b[1;34m'waeifnsdfzklnsae'\u001b[0m\u001b[1;33m)\u001b[0m\u001b[1;33m\u001b[0m\u001b[1;33m\u001b[0m\u001b[0m\n\u001b[0m",
      "\u001b[1;32m<ipython-input-123-0f898f0a6155>\u001b[0m in \u001b[0;36mone_to_three\u001b[1;34m(seq)\u001b[0m\n\u001b[0;32m     11\u001b[0m         \u001b[1;31m# Check if the `amino_acid` is in our dictionary `bootcamp_utils.aa`\u001b[0m\u001b[1;33m\u001b[0m\u001b[1;33m\u001b[0m\u001b[1;33m\u001b[0m\u001b[0m\n\u001b[0;32m     12\u001b[0m         \u001b[1;32mif\u001b[0m \u001b[0mamino_acid\u001b[0m \u001b[1;32mnot\u001b[0m \u001b[1;32min\u001b[0m \u001b[0mbootcamp_utils\u001b[0m\u001b[1;33m.\u001b[0m\u001b[0maa\u001b[0m\u001b[1;33m.\u001b[0m\u001b[0mkeys\u001b[0m\u001b[1;33m(\u001b[0m\u001b[1;33m)\u001b[0m\u001b[1;33m:\u001b[0m\u001b[1;33m\u001b[0m\u001b[1;33m\u001b[0m\u001b[0m\n\u001b[1;32m---> 13\u001b[1;33m             \u001b[1;32mraise\u001b[0m \u001b[0mRuntimeError\u001b[0m\u001b[1;33m(\u001b[0m\u001b[1;34mf'{amino_acid} is not a valid amino acid'\u001b[0m\u001b[1;33m)\u001b[0m\u001b[1;33m\u001b[0m\u001b[1;33m\u001b[0m\u001b[0m\n\u001b[0m\u001b[0;32m     14\u001b[0m         \u001b[1;31m# Add the `amino_acid` to our aa_list\u001b[0m\u001b[1;33m\u001b[0m\u001b[1;33m\u001b[0m\u001b[1;33m\u001b[0m\u001b[0m\n\u001b[0;32m     15\u001b[0m         \u001b[0maa_list\u001b[0m\u001b[1;33m.\u001b[0m\u001b[0mappend\u001b[0m\u001b[1;33m(\u001b[0m\u001b[0mbootcamp_utils\u001b[0m\u001b[1;33m.\u001b[0m\u001b[0maa\u001b[0m\u001b[1;33m[\u001b[0m\u001b[0mamino_acid\u001b[0m\u001b[1;33m]\u001b[0m\u001b[1;33m)\u001b[0m\u001b[1;33m\u001b[0m\u001b[1;33m\u001b[0m\u001b[0m\n",
      "\u001b[1;31mRuntimeError\u001b[0m: Z is not a valid amino acid"
     ]
    }
   ],
   "source": [
    "one_to_three('waeifnsdfzklnsae')"
   ]
  },
  {
   "cell_type": "code",
   "execution_count": 130,
   "metadata": {},
   "outputs": [],
   "source": [
    "def number_negatives(seq):\n",
    "    \"\"\"Number of negative residues a protein sequence\"\"\"\n",
    "    # Count E's and D's, since these are the negative residues\n",
    "    return seq.count('E') + seq.count('D')"
   ]
  },
  {
   "cell_type": "code",
   "execution_count": 131,
   "metadata": {},
   "outputs": [],
   "source": [
    "def number_negatives(seq):\n",
    "    \"\"\"Number of negative residues a protein sequence\"\"\"\n",
    "    # Convert sequence to upper case\n",
    "    seq = seq.upper()\n",
    "    \n",
    "    # Count E's and D's, since these are the negative residues\n",
    "    return seq.count('E') + seq.count('D')"
   ]
  },
  {
   "cell_type": "code",
   "execution_count": 132,
   "metadata": {},
   "outputs": [],
   "source": [
    "def test_number_negatives():\n",
    "    \"\"\"Perform unit tests on number_negatives.\"\"\"\n",
    "    assert number_negatives('E') == 1\n",
    "    assert number_negatives('D') == 1\n",
    "    assert number_negatives('') == 0\n",
    "    assert number_negatives('ACKLWTTAE') == 1\n",
    "    assert number_negatives('DDDDEEEE') == 8\n",
    "    assert number_negatives('acklwttae') == 1\n",
    "\n",
    "# Run all the tests\n",
    "test_number_negatives()"
   ]
  },
  {
   "cell_type": "code",
   "execution_count": 134,
   "metadata": {},
   "outputs": [
    {
     "name": "stdout",
     "output_type": "stream",
     "text": [
      "============================= test session starts =============================\n",
      "platform win32 -- Python 3.7.7, pytest-5.4.1, py-1.8.1, pluggy-0.13.1 -- C:\\Users\\Batuujin\\anaconda3\\python.exe\n",
      "cachedir: .pytest_cache\n",
      "hypothesis profile 'default' -> database=DirectoryBasedExampleDatabase('C:\\\\Users\\\\Batuujin\\\\jupyter_notebooks\\\\200422_Day2\\\\.hypothesis\\\\examples')\n",
      "rootdir: C:\\Users\\Batuujin\\jupyter_notebooks\\200422_Day2\n",
      "plugins: hypothesis-5.5.4, arraydiff-0.3, astropy-header-0.1.2, doctestplus-0.5.0, openfiles-0.4.0, remotedata-0.3.2\n",
      "collecting ... collected 1 item\n",
      "\n",
      "seq_features_and_tests.py::test_number_negatives PASSED                  [100%]\n",
      "\n",
      "============================== 1 passed in 0.06s ==============================\n"
     ]
    }
   ],
   "source": [
    "!pytest -v seq_features_and_tests.py"
   ]
  },
  {
   "cell_type": "code",
   "execution_count": 136,
   "metadata": {},
   "outputs": [
    {
     "name": "stdout",
     "output_type": "stream",
     "text": [
      " Volume in drive C is Windows\n",
      " Volume Serial Number is C4C7-8D48\n",
      "\n",
      " Directory of C:\\Users\\Batuujin\\jupyter_notebooks\\200422_Day2\n",
      "\n",
      "04/22/2020  03:45 PM    <DIR>          .\n",
      "04/22/2020  03:45 PM    <DIR>          ..\n",
      "04/22/2020  03:42 PM    <DIR>          .ipynb_checkpoints\n",
      "04/22/2020  03:42 PM    <DIR>          .pytest_cache\n",
      "04/22/2020  03:44 PM    <DIR>          __pycache__\n",
      "04/22/2020  02:45 PM            57,236 atoms_chain_A.txt\n",
      "04/22/2020  02:42 PM                36 gimme_phi.txt\n",
      "04/22/2020  03:45 PM            22,919 Lesson13-16.ipynb\n",
      "04/22/2020  02:07 PM             9,922 Lesson9-12.ipynb\n",
      "04/22/2020  11:07 AM               963 na_savenya.py\n",
      "04/22/2020  03:43 PM               569 seq_features_and_tests.py\n",
      "               6 File(s)         91,645 bytes\n",
      "               5 Dir(s)  30,768,496,640 bytes free\n"
     ]
    }
   ],
   "source": [
    "ls"
   ]
  },
  {
   "cell_type": "code",
   "execution_count": 137,
   "metadata": {},
   "outputs": [
    {
     "name": "stdout",
     "output_type": "stream",
     "text": [
      "============================= test session starts =============================\n",
      "platform win32 -- Python 3.7.7, pytest-5.4.1, py-1.8.1, pluggy-0.13.1 -- C:\\Users\\Batuujin\\anaconda3\\python.exe\n",
      "cachedir: .pytest_cache\n",
      "hypothesis profile 'default' -> database=DirectoryBasedExampleDatabase('C:\\\\Users\\\\Batuujin\\\\jupyter_notebooks\\\\200422_Day2\\\\.hypothesis\\\\examples')\n",
      "rootdir: C:\\Users\\Batuujin\\jupyter_notebooks\\200422_Day2\n",
      "plugins: hypothesis-5.5.4, arraydiff-0.3, astropy-header-0.1.2, doctestplus-0.5.0, openfiles-0.4.0, remotedata-0.3.2\n",
      "collecting ... collected 4 items\n",
      "\n",
      "seq_features_and_tests.py::test_number_negatives_for_single_AA PASSED    [ 25%]\n",
      "seq_features_and_tests.py::test_number_negatives_for_empty PASSED        [ 50%]\n",
      "seq_features_and_tests.py::test_number_negatives_for_short_sequence PASSED [ 75%]\n",
      "seq_features_and_tests.py::test_number_negatives_for_lowercase PASSED    [100%]\n",
      "\n",
      "============================== 4 passed in 0.07s ==============================\n"
     ]
    }
   ],
   "source": [
    "!pytest -v seq_features_and_tests.py"
   ]
  },
  {
   "cell_type": "code",
   "execution_count": 138,
   "metadata": {},
   "outputs": [
    {
     "name": "stdout",
     "output_type": "stream",
     "text": [
      "============================= test session starts =============================\n",
      "platform win32 -- Python 3.7.7, pytest-5.4.1, py-1.8.1, pluggy-0.13.1 -- C:\\Users\\Batuujin\\anaconda3\\python.exe\n",
      "cachedir: .pytest_cache\n",
      "hypothesis profile 'default' -> database=DirectoryBasedExampleDatabase('C:\\\\Users\\\\Batuujin\\\\jupyter_notebooks\\\\200422_Day2\\\\.hypothesis\\\\examples')\n",
      "rootdir: C:\\Users\\Batuujin\\jupyter_notebooks\\200422_Day2\n",
      "plugins: hypothesis-5.5.4, arraydiff-0.3, astropy-header-0.1.2, doctestplus-0.5.0, openfiles-0.4.0, remotedata-0.3.2\n",
      "collecting ... collected 4 items\n",
      "\n",
      "test_seq_features.py::test_number_negatives_single_E_or_D PASSED         [ 25%]\n",
      "test_seq_features.py::test_number_negatives_for_empty PASSED             [ 50%]\n",
      "test_seq_features.py::test_number_negatives_for_short_sequences PASSED   [ 75%]\n",
      "test_seq_features.py::test_number_negatives_for_lowercase PASSED         [100%]\n",
      "\n",
      "============================== 4 passed in 0.08s ==============================\n"
     ]
    }
   ],
   "source": [
    "!pytest -v"
   ]
  },
  {
   "cell_type": "markdown",
   "metadata": {},
   "source": [
    "#### Lesson 16: Examples of TDD"
   ]
  },
  {
   "cell_type": "markdown",
   "metadata": {},
   "source": [
    "#### Handling odd behavior"
   ]
  },
  {
   "cell_type": "markdown",
   "metadata": {},
   "source": [
    "A note on assertions vs raising exceptions\n",
    "It is important to draw the distinction between assertions and raising exceptions in our code.\n",
    "\n",
    "> We should raise exceptions when we are checking inputs to our function. I.e., we are checking to make sure the user is using the function properly.\n",
    "\n",
    "> We should use assertions to make sure the function operates as expected for given input.\n",
    "\n",
    "We should then add to the code of the test_seq_features.py to include our expectation that the program should throw a RuntimeError if an invalid sequence is entered:"
   ]
  },
  {
   "cell_type": "code",
   "execution_count": 139,
   "metadata": {},
   "outputs": [],
   "source": [
    "def test_number_negatives_for_invalid_amino_acid():\n",
    "    with pytest.raises(RuntimeError) as excinfo:\n",
    "        seq_features.number_negatives('Z')\n",
    "    excinfo.match(\"Z is not a valid amino acid\")"
   ]
  },
  {
   "cell_type": "code",
   "execution_count": 142,
   "metadata": {},
   "outputs": [
    {
     "name": "stdout",
     "output_type": "stream",
     "text": [
      "============================= test session starts =============================\n",
      "platform win32 -- Python 3.7.7, pytest-5.4.1, py-1.8.1, pluggy-0.13.1 -- C:\\Users\\Batuujin\\anaconda3\\python.exe\n",
      "cachedir: .pytest_cache\n",
      "hypothesis profile 'default' -> database=DirectoryBasedExampleDatabase('C:\\\\Users\\\\Batuujin\\\\jupyter_notebooks\\\\200422_Day2\\\\.hypothesis\\\\examples')\n",
      "rootdir: C:\\Users\\Batuujin\\jupyter_notebooks\\200422_Day2\n",
      "plugins: hypothesis-5.5.4, arraydiff-0.3, astropy-header-0.1.2, doctestplus-0.5.0, openfiles-0.4.0, remotedata-0.3.2\n",
      "collecting ... collected 5 items\n",
      "\n",
      "test_seq_features.py::test_number_negatives_single_E_or_D PASSED         [ 20%]\n",
      "test_seq_features.py::test_number_negatives_for_empty PASSED             [ 40%]\n",
      "test_seq_features.py::test_number_negatives_for_short_sequences PASSED   [ 60%]\n",
      "test_seq_features.py::test_number_negatives_for_lowercase PASSED         [ 80%]\n",
      "test_seq_features.py::test_number_negatives_for_invalid_amino_acid FAILED [100%]\n",
      "\n",
      "================================== FAILURES ===================================\n",
      "________________ test_number_negatives_for_invalid_amino_acid _________________\n",
      "\n",
      "    def test_number_negatives_for_invalid_amino_acid():\n",
      "        with pytest.raises(RuntimeError) as excinfo:\n",
      ">           seq_features.number_negatives('Z')\n",
      "E           Failed: DID NOT RAISE <class 'RuntimeError'>\n",
      "\n",
      "test_seq_features.py:27: Failed\n",
      "=========================== short test summary info ===========================\n",
      "FAILED test_seq_features.py::test_number_negatives_for_invalid_amino_acid - F...\n",
      "========================= 1 failed, 4 passed in 0.09s =========================\n"
     ]
    }
   ],
   "source": [
    "!pytest -v"
   ]
  },
  {
   "cell_type": "code",
   "execution_count": 143,
   "metadata": {},
   "outputs": [
    {
     "name": "stdout",
     "output_type": "stream",
     "text": [
      "============================= test session starts =============================\n",
      "platform win32 -- Python 3.7.7, pytest-5.4.1, py-1.8.1, pluggy-0.13.1 -- C:\\Users\\Batuujin\\anaconda3\\python.exe\n",
      "cachedir: .pytest_cache\n",
      "hypothesis profile 'default' -> database=DirectoryBasedExampleDatabase('C:\\\\Users\\\\Batuujin\\\\jupyter_notebooks\\\\200422_Day2\\\\.hypothesis\\\\examples')\n",
      "rootdir: C:\\Users\\Batuujin\\jupyter_notebooks\\200422_Day2\n",
      "plugins: hypothesis-5.5.4, arraydiff-0.3, astropy-header-0.1.2, doctestplus-0.5.0, openfiles-0.4.0, remotedata-0.3.2\n",
      "collecting ... collected 5 items\n",
      "\n",
      "test_seq_features.py::test_number_negatives_single_E_or_D PASSED         [ 20%]\n",
      "test_seq_features.py::test_number_negatives_for_empty PASSED             [ 40%]\n",
      "test_seq_features.py::test_number_negatives_for_short_sequences PASSED   [ 60%]\n",
      "test_seq_features.py::test_number_negatives_for_lowercase PASSED         [ 80%]\n",
      "test_seq_features.py::test_number_negatives_for_invalid_amino_acid PASSED [100%]\n",
      "\n",
      "============================== 5 passed in 0.06s ==============================\n"
     ]
    }
   ],
   "source": [
    "!pytest -v"
   ]
  },
  {
   "cell_type": "code",
   "execution_count": 145,
   "metadata": {},
   "outputs": [
    {
     "name": "stdout",
     "output_type": "stream",
     "text": [
      "============================= test session starts =============================\n",
      "platform win32 -- Python 3.7.7, pytest-5.4.1, py-1.8.1, pluggy-0.13.1 -- C:\\Users\\Batuujin\\anaconda3\\python.exe\n",
      "cachedir: .pytest_cache\n",
      "hypothesis profile 'default' -> database=DirectoryBasedExampleDatabase('C:\\\\Users\\\\Batuujin\\\\jupyter_notebooks\\\\200422_Day2\\\\.hypothesis\\\\examples')\n",
      "rootdir: C:\\Users\\Batuujin\\jupyter_notebooks\\200422_Day2\n",
      "plugins: hypothesis-5.5.4, arraydiff-0.3, astropy-header-0.1.2, doctestplus-0.5.0, openfiles-0.4.0, remotedata-0.3.2\n",
      "collecting ... collected 5 items\n",
      "\n",
      "test_seq_features.py::test_number_negatives_single_E_or_D PASSED         [ 20%]\n",
      "test_seq_features.py::test_number_negatives_for_empty PASSED             [ 40%]\n",
      "test_seq_features.py::test_number_negatives_for_short_sequences PASSED   [ 60%]\n",
      "test_seq_features.py::test_number_negatives_for_lowercase PASSED         [ 80%]\n",
      "test_seq_features.py::test_number_negatives_for_invalid_amino_acid PASSED [100%]\n",
      "\n",
      "============================== 5 passed in 3.26s ==============================\n"
     ]
    }
   ],
   "source": [
    "!pytest -v"
   ]
  },
  {
   "cell_type": "code",
   "execution_count": 149,
   "metadata": {},
   "outputs": [
    {
     "name": "stdout",
     "output_type": "stream",
     "text": [
      "============================= test session starts =============================\n",
      "platform win32 -- Python 3.7.7, pytest-5.4.1, py-1.8.1, pluggy-0.13.1 -- C:\\Users\\Batuujin\\anaconda3\\python.exe\n",
      "cachedir: .pytest_cache\n",
      "hypothesis profile 'default' -> database=DirectoryBasedExampleDatabase('C:\\\\Users\\\\Batuujin\\\\jupyter_notebooks\\\\200422_Day2\\\\.hypothesis\\\\examples')\n",
      "rootdir: C:\\Users\\Batuujin\\jupyter_notebooks\\200422_Day2\n",
      "plugins: hypothesis-5.5.4, arraydiff-0.3, astropy-header-0.1.2, doctestplus-0.5.0, openfiles-0.4.0, remotedata-0.3.2\n",
      "collecting ... collected 6 items\n",
      "\n",
      "test_seq_features.py::test_number_negatives_single_E_or_D PASSED         [ 16%]\n",
      "test_seq_features.py::test_number_negatives_for_empty PASSED             [ 33%]\n",
      "test_seq_features.py::test_number_negatives_for_short_sequences PASSED   [ 50%]\n",
      "test_seq_features.py::test_number_negatives_for_lowercase PASSED         [ 66%]\n",
      "test_seq_features.py::test_number_negatives_for_invalid_amino_acid PASSED [ 83%]\n",
      "test_seq_features.py::test_number_positives_single_R_K_or_H FAILED       [100%]\n",
      "\n",
      "================================== FAILURES ===================================\n",
      "____________________ test_number_positives_single_R_K_or_H ____________________\n",
      "\n",
      "    def test_number_positives_single_R_K_or_H():\n",
      "        \"\"\"Perform unit tests on number_positives for single AA\"\"\"\n",
      ">       assert seq_features.number_positives('R') == 1\n",
      "E       assert None == 1\n",
      "E         +None\n",
      "E         -1\n",
      "\n",
      "test_seq_features.py:32: AssertionError\n",
      "=========================== short test summary info ===========================\n",
      "FAILED test_seq_features.py::test_number_positives_single_R_K_or_H - assert N...\n",
      "========================= 1 failed, 5 passed in 2.80s =========================\n"
     ]
    }
   ],
   "source": [
    "!pytest -v"
   ]
  },
  {
   "cell_type": "code",
   "execution_count": 146,
   "metadata": {},
   "outputs": [
    {
     "data": {
      "text/plain": [
       "{'A': 'Ala',\n",
       " 'R': 'Arg',\n",
       " 'N': 'Asn',\n",
       " 'D': 'Asp',\n",
       " 'C': 'Cys',\n",
       " 'Q': 'Gln',\n",
       " 'E': 'Glu',\n",
       " 'G': 'Gly',\n",
       " 'H': 'His',\n",
       " 'I': 'Ile',\n",
       " 'L': 'Leu',\n",
       " 'K': 'Lys',\n",
       " 'M': 'Met',\n",
       " 'F': 'Phe',\n",
       " 'P': 'Pro',\n",
       " 'S': 'Ser',\n",
       " 'T': 'Thr',\n",
       " 'W': 'Trp',\n",
       " 'Y': 'Tyr',\n",
       " 'V': 'Val'}"
      ]
     },
     "execution_count": 146,
     "metadata": {},
     "output_type": "execute_result"
    }
   ],
   "source": [
    "bootcamp_utils.aa"
   ]
  },
  {
   "cell_type": "markdown",
   "metadata": {},
   "source": [
    "**Summary of TDD\n",
    "Now that you have some experience with TDD and have an idea about what it is and how it works, let's formalize things by writing out the basic principles of test-driven development.**\n",
    "\n",
    "**Build your software out of small functions that do one specific thing.\n",
    "Build unit tests for all of your functions.\n",
    "Whenever you want to make any enhancements of adjustments to your code, write tests for it first.\n",
    "Whenever you encounter a bug, write tests for it that reproduce the behavior and then fix the code to make the entire test suite to pass.**"
   ]
  },
  {
   "cell_type": "code",
   "execution_count": 150,
   "metadata": {},
   "outputs": [
    {
     "name": "stdout",
     "output_type": "stream",
     "text": [
      "============================= test session starts =============================\n",
      "platform win32 -- Python 3.7.7, pytest-5.4.1, py-1.8.1, pluggy-0.13.1 -- C:\\Users\\Batuujin\\anaconda3\\python.exe\n",
      "cachedir: .pytest_cache\n",
      "hypothesis profile 'default' -> database=DirectoryBasedExampleDatabase('C:\\\\Users\\\\Batuujin\\\\jupyter_notebooks\\\\200422_Day2\\\\.hypothesis\\\\examples')\n",
      "rootdir: C:\\Users\\Batuujin\\jupyter_notebooks\\200422_Day2\n",
      "plugins: hypothesis-5.5.4, arraydiff-0.3, astropy-header-0.1.2, doctestplus-0.5.0, openfiles-0.4.0, remotedata-0.3.2\n",
      "collecting ... collected 6 items\n",
      "\n",
      "test_seq_features.py::test_number_negatives_single_E_or_D PASSED         [ 16%]\n",
      "test_seq_features.py::test_number_negatives_for_empty PASSED             [ 33%]\n",
      "test_seq_features.py::test_number_negatives_for_short_sequences PASSED   [ 50%]\n",
      "test_seq_features.py::test_number_negatives_for_lowercase PASSED         [ 66%]\n",
      "test_seq_features.py::test_number_negatives_for_invalid_amino_acid PASSED [ 83%]\n",
      "test_seq_features.py::test_number_positives_single_R_K_or_H PASSED       [100%]\n",
      "\n",
      "============================== 6 passed in 2.74s ==============================\n"
     ]
    }
   ],
   "source": [
    "!pytest -v"
   ]
  },
  {
   "cell_type": "code",
   "execution_count": 151,
   "metadata": {},
   "outputs": [
    {
     "name": "stdout",
     "output_type": "stream",
     "text": [
      "============================= test session starts =============================\n",
      "platform win32 -- Python 3.7.7, pytest-5.4.1, py-1.8.1, pluggy-0.13.1 -- C:\\Users\\Batuujin\\anaconda3\\python.exe\n",
      "cachedir: .pytest_cache\n",
      "hypothesis profile 'default' -> database=DirectoryBasedExampleDatabase('C:\\\\Users\\\\Batuujin\\\\jupyter_notebooks\\\\200422_Day2\\\\.hypothesis\\\\examples')\n",
      "rootdir: C:\\Users\\Batuujin\\jupyter_notebooks\\200422_Day2\n",
      "plugins: hypothesis-5.5.4, arraydiff-0.3, astropy-header-0.1.2, doctestplus-0.5.0, openfiles-0.4.0, remotedata-0.3.2\n",
      "collecting ... collected 10 items\n",
      "\n",
      "test_seq_features.py::test_number_negatives_single_E_or_D PASSED         [ 10%]\n",
      "test_seq_features.py::test_number_negatives_for_empty PASSED             [ 20%]\n",
      "test_seq_features.py::test_number_negatives_for_short_sequences PASSED   [ 30%]\n",
      "test_seq_features.py::test_number_negatives_for_lowercase PASSED         [ 40%]\n",
      "test_seq_features.py::test_number_negatives_for_invalid_amino_acid PASSED [ 50%]\n",
      "test_seq_features.py::test_number_positives_single_R_K_or_H PASSED       [ 60%]\n",
      "test_seq_features.py::test_number_positives_for_empty PASSED             [ 70%]\n",
      "test_seq_features.py::test_number_positives_for_short_sequences PASSED   [ 80%]\n",
      "test_seq_features.py::test_number_positives_for_lowercase FAILED         [ 90%]\n",
      "test_seq_features.py::test_number_positives_for_invalid_amino_acid FAILED [100%]\n",
      "\n",
      "================================== FAILURES ===================================\n",
      "_____________________ test_number_positives_for_lowercase _____________________\n",
      "\n",
      "    def test_number_positives_for_lowercase():\n",
      "        \"\"\"Perform unit tests on number_positives for lowercase\"\"\"\n",
      ">       assert seq_features.number_positives('rcklwttre') == 3\n",
      "E       assert 0 == 3\n",
      "E         +0\n",
      "E         -3\n",
      "\n",
      "test_seq_features.py:50: AssertionError\n",
      "________________ test_number_positives_for_invalid_amino_acid _________________\n",
      "\n",
      "    def test_number_positives_for_invalid_amino_acid():\n",
      "        with pytest.raises(RuntimeError) as excinfo:\n",
      ">           seq_features.number_positives('Z')\n",
      "E           Failed: DID NOT RAISE <class 'RuntimeError'>\n",
      "\n",
      "test_seq_features.py:55: Failed\n",
      "=========================== short test summary info ===========================\n",
      "FAILED test_seq_features.py::test_number_positives_for_lowercase - assert 0 == 3\n",
      "FAILED test_seq_features.py::test_number_positives_for_invalid_amino_acid - F...\n",
      "========================= 2 failed, 8 passed in 3.01s =========================\n"
     ]
    }
   ],
   "source": [
    "!pytest -v"
   ]
  },
  {
   "cell_type": "code",
   "execution_count": 152,
   "metadata": {},
   "outputs": [
    {
     "name": "stdout",
     "output_type": "stream",
     "text": [
      "============================= test session starts =============================\n",
      "platform win32 -- Python 3.7.7, pytest-5.4.1, py-1.8.1, pluggy-0.13.1 -- C:\\Users\\Batuujin\\anaconda3\\python.exe\n",
      "cachedir: .pytest_cache\n",
      "hypothesis profile 'default' -> database=DirectoryBasedExampleDatabase('C:\\\\Users\\\\Batuujin\\\\jupyter_notebooks\\\\200422_Day2\\\\.hypothesis\\\\examples')\n",
      "rootdir: C:\\Users\\Batuujin\\jupyter_notebooks\\200422_Day2\n",
      "plugins: hypothesis-5.5.4, arraydiff-0.3, astropy-header-0.1.2, doctestplus-0.5.0, openfiles-0.4.0, remotedata-0.3.2\n",
      "collecting ... collected 10 items\n",
      "\n",
      "test_seq_features.py::test_number_negatives_single_E_or_D PASSED         [ 10%]\n",
      "test_seq_features.py::test_number_negatives_for_empty PASSED             [ 20%]\n",
      "test_seq_features.py::test_number_negatives_for_short_sequences PASSED   [ 30%]\n",
      "test_seq_features.py::test_number_negatives_for_lowercase PASSED         [ 40%]\n",
      "test_seq_features.py::test_number_negatives_for_invalid_amino_acid PASSED [ 50%]\n",
      "test_seq_features.py::test_number_positives_single_R_K_or_H PASSED       [ 60%]\n",
      "test_seq_features.py::test_number_positives_for_empty PASSED             [ 70%]\n",
      "test_seq_features.py::test_number_positives_for_short_sequences PASSED   [ 80%]\n",
      "test_seq_features.py::test_number_positives_for_lowercase PASSED         [ 90%]\n",
      "test_seq_features.py::test_number_positives_for_invalid_amino_acid PASSED [100%]\n",
      "\n",
      "============================= 10 passed in 2.60s ==============================\n"
     ]
    }
   ],
   "source": [
    "!pytest -v"
   ]
  },
  {
   "cell_type": "code",
   "execution_count": 154,
   "metadata": {},
   "outputs": [
    {
     "name": "stdout",
     "output_type": "stream",
     "text": [
      "============================= test session starts =============================\n",
      "platform win32 -- Python 3.7.7, pytest-5.4.1, py-1.8.1, pluggy-0.13.1 -- C:\\Users\\Batuujin\\anaconda3\\python.exe\n",
      "cachedir: .pytest_cache\n",
      "hypothesis profile 'default' -> database=DirectoryBasedExampleDatabase('C:\\\\Users\\\\Batuujin\\\\jupyter_notebooks\\\\200422_Day2\\\\.hypothesis\\\\examples')\n",
      "rootdir: C:\\Users\\Batuujin\\jupyter_notebooks\\200422_Day2\n",
      "plugins: hypothesis-5.5.4, arraydiff-0.3, astropy-header-0.1.2, doctestplus-0.5.0, openfiles-0.4.0, remotedata-0.3.2\n",
      "collecting ... collected 12 items\n",
      "\n",
      "test_seq_features.py::test_number_negatives_single_E_or_D PASSED         [  8%]\n",
      "test_seq_features.py::test_number_negatives_for_empty PASSED             [ 16%]\n",
      "test_seq_features.py::test_number_negatives_for_short_sequences PASSED   [ 25%]\n",
      "test_seq_features.py::test_number_negatives_for_lowercase PASSED         [ 33%]\n",
      "test_seq_features.py::test_number_negatives_for_invalid_amino_acid PASSED [ 41%]\n",
      "test_seq_features.py::test_number_positives_single_R_K_or_H PASSED       [ 50%]\n",
      "test_seq_features.py::test_number_positives_for_empty PASSED             [ 58%]\n",
      "test_seq_features.py::test_number_positives_for_short_sequences PASSED   [ 66%]\n",
      "test_seq_features.py::test_number_positives_for_lowercase PASSED         [ 75%]\n",
      "test_seq_features.py::test_number_positives_for_invalid_amino_acid PASSED [ 83%]\n",
      "test_seq_features.py::test_number_negatives_for_invalid_amino_acid_anywhere PASSED [ 91%]\n",
      "test_seq_features.py::test_number_positives_for_invalid_amino_acid_anywhere PASSED [100%]\n",
      "\n",
      "============================= 12 passed in 4.09s ==============================\n"
     ]
    }
   ],
   "source": [
    "!pytest -v"
   ]
  },
  {
   "cell_type": "code",
   "execution_count": 155,
   "metadata": {},
   "outputs": [
    {
     "name": "stdout",
     "output_type": "stream",
     "text": [
      "============================= test session starts =============================\n",
      "platform win32 -- Python 3.7.7, pytest-5.4.1, py-1.8.1, pluggy-0.13.1 -- C:\\Users\\Batuujin\\anaconda3\\python.exe\n",
      "cachedir: .pytest_cache\n",
      "hypothesis profile 'default' -> database=DirectoryBasedExampleDatabase('C:\\\\Users\\\\Batuujin\\\\jupyter_notebooks\\\\200422_Day2\\\\.hypothesis\\\\examples')\n",
      "rootdir: C:\\Users\\Batuujin\\jupyter_notebooks\\200422_Day2\n",
      "plugins: hypothesis-5.5.4, arraydiff-0.3, astropy-header-0.1.2, doctestplus-0.5.0, openfiles-0.4.0, remotedata-0.3.2\n",
      "collecting ... collected 14 items\n",
      "\n",
      "test_seq_features.py::test_number_negatives_single_E_or_D PASSED         [  7%]\n",
      "test_seq_features.py::test_number_negatives_for_empty PASSED             [ 14%]\n",
      "test_seq_features.py::test_number_negatives_for_short_sequences PASSED   [ 21%]\n",
      "test_seq_features.py::test_number_negatives_for_lowercase PASSED         [ 28%]\n",
      "test_seq_features.py::test_number_negatives_for_invalid_amino_acid PASSED [ 35%]\n",
      "test_seq_features.py::test_number_positives_single_R_K_or_H PASSED       [ 42%]\n",
      "test_seq_features.py::test_number_positives_for_empty PASSED             [ 50%]\n",
      "test_seq_features.py::test_number_positives_for_short_sequences PASSED   [ 57%]\n",
      "test_seq_features.py::test_number_positives_for_lowercase PASSED         [ 64%]\n",
      "test_seq_features.py::test_number_positives_for_invalid_amino_acid PASSED [ 71%]\n",
      "test_seq_features.py::test_number_negatives_for_invalid_amino_acid_anywhere PASSED [ 78%]\n",
      "test_seq_features.py::test_number_positives_for_invalid_amino_acid_anywhere PASSED [ 85%]\n",
      "test_seq_features.py::test_is_valid_sequence_for_invalid_amino_acid PASSED [ 92%]\n",
      "test_seq_features.py::test_is_valid_sequence_for_invalid_amino_acid_anywhere PASSED [100%]\n",
      "\n",
      "============================= 14 passed in 4.28s ==============================\n"
     ]
    }
   ],
   "source": [
    "!pytest -v"
   ]
  },
  {
   "cell_type": "code",
   "execution_count": null,
   "metadata": {},
   "outputs": [],
   "source": []
  },
  {
   "cell_type": "code",
   "execution_count": 156,
   "metadata": {},
   "outputs": [
    {
     "name": "stdout",
     "output_type": "stream",
     "text": [
      "============================= test session starts =============================\n",
      "platform win32 -- Python 3.7.7, pytest-5.4.1, py-1.8.1, pluggy-0.13.1 -- C:\\Users\\Batuujin\\anaconda3\\python.exe\n",
      "cachedir: .pytest_cache\n",
      "hypothesis profile 'default' -> database=DirectoryBasedExampleDatabase('C:\\\\Users\\\\Batuujin\\\\jupyter_notebooks\\\\200422_Day2\\\\.hypothesis\\\\examples')\n",
      "rootdir: C:\\Users\\Batuujin\\jupyter_notebooks\\200422_Day2\n",
      "plugins: hypothesis-5.5.4, arraydiff-0.3, astropy-header-0.1.2, doctestplus-0.5.0, openfiles-0.4.0, remotedata-0.3.2\n",
      "collecting ... collected 15 items\n",
      "\n",
      "test_seq_features.py::test_number_negatives_single_E_or_D PASSED         [  6%]\n",
      "test_seq_features.py::test_number_negatives_for_empty PASSED             [ 13%]\n",
      "test_seq_features.py::test_number_negatives_for_short_sequences PASSED   [ 20%]\n",
      "test_seq_features.py::test_number_negatives_for_lowercase PASSED         [ 26%]\n",
      "test_seq_features.py::test_number_negatives_for_invalid_amino_acid PASSED [ 33%]\n",
      "test_seq_features.py::test_number_positives_single_R_K_or_H PASSED       [ 40%]\n",
      "test_seq_features.py::test_number_positives_for_empty PASSED             [ 46%]\n",
      "test_seq_features.py::test_number_positives_for_short_sequences PASSED   [ 53%]\n",
      "test_seq_features.py::test_number_positives_for_lowercase PASSED         [ 60%]\n",
      "test_seq_features.py::test_number_positives_for_invalid_amino_acid PASSED [ 66%]\n",
      "test_seq_features.py::test_number_negatives_for_invalid_amino_acid_anywhere PASSED [ 73%]\n",
      "test_seq_features.py::test_number_positives_for_invalid_amino_acid_anywhere PASSED [ 80%]\n",
      "test_seq_features.py::test_is_valid_sequence_for_invalid_amino_acid PASSED [ 86%]\n",
      "test_seq_features.py::test_is_valid_sequence_for_invalid_amino_acid_anywhere PASSED [ 93%]\n",
      "test_seq_features.py::test_is_valid_sequence_for_other_invalid_amino_acid_anywhere PASSED [100%]\n",
      "\n",
      "============================= 15 passed in 2.73s ==============================\n"
     ]
    }
   ],
   "source": [
    "!pytest -v"
   ]
  },
  {
   "cell_type": "code",
   "execution_count": null,
   "metadata": {},
   "outputs": [],
   "source": []
  }
 ],
 "metadata": {
  "kernelspec": {
   "display_name": "Python 3",
   "language": "python",
   "name": "python3"
  },
  "language_info": {
   "codemirror_mode": {
    "name": "ipython",
    "version": 3
   },
   "file_extension": ".py",
   "mimetype": "text/x-python",
   "name": "python",
   "nbconvert_exporter": "python",
   "pygments_lexer": "ipython3",
   "version": "3.7.7"
  }
 },
 "nbformat": 4,
 "nbformat_minor": 4
}
