{
 "cells": [
  {
   "cell_type": "markdown",
   "metadata": {},
   "source": [
    "Lesson 1\n",
    "------------\n"
   ]
  },
  {
   "cell_type": "code",
   "execution_count": 1,
   "metadata": {},
   "outputs": [
    {
     "name": "stdout",
     "output_type": "stream",
     "text": [
      "Sup world\n"
     ]
    }
   ],
   "source": [
    "print (\"Sup world\")"
   ]
  },
  {
   "cell_type": "code",
   "execution_count": 15,
   "metadata": {},
   "outputs": [
    {
     "name": "stdout",
     "output_type": "stream",
     "text": [
      "The watermark extension is already loaded. To reload it, use:\n",
      "  %reload_ext watermark\n",
      "CPython 3.7.7\n",
      "IPython 7.13.0\n",
      "\n",
      "jupyterlab 1.2.6\n"
     ]
    }
   ],
   "source": [
    "%load_ext watermark\n",
    "%watermark -v -p jupyterlab"
   ]
  },
  {
   "cell_type": "code",
   "execution_count": null,
   "metadata": {},
   "outputs": [],
   "source": [
    "Bash\tPowerShell\n",
    "cd\tcd\n",
    "mv\tmv\n",
    "pwd\tpwd\n",
    "ls -al\tls -Hidden\n",
    "rm -rf\tdel -Force -Recurse .\\mydirectory\n",
    "more\tmore\n",
    "less\tDoes not exist\n",
    "head -5 myfile.txt\tgc myfile.txt -head 5\n",
    "tail -5 myfile.txt\tgc myfile.txt -tail 5\n",
    "cat ./dir/myfile.txt\t!type \"dir\\myfile.txt\"\n"
   ]
  },
  {
   "cell_type": "code",
   "execution_count": 11,
   "metadata": {},
   "outputs": [
    {
     "name": "stdout",
     "output_type": "stream",
     "text": [
      "Beautiful is better than ugly.\n",
      "Explicit is better than implicit.\n",
      "Simple is better than complex.\n",
      "Complex is better than complicated.\n"
     ]
    }
   ],
   "source": [
    "%run zen.py"
   ]
  },
  {
   "cell_type": "code",
   "execution_count": null,
   "metadata": {},
   "outputs": [],
   "source": [
    "# Would show 9 if this were the last line, but it is not, so shows nothing\n",
    "b=4 + 5\n",
    "\n",
    "# I hope we see 11.\n",
    "a=5 + 6\n",
    "\n",
    "print (a+b)"
   ]
  },
  {
   "cell_type": "code",
   "execution_count": 17,
   "metadata": {},
   "outputs": [
    {
     "name": "stderr",
     "output_type": "stream",
     "text": [
      "'ls' is not recognized as an internal or external command,\n",
      "operable program or batch file.\n"
     ]
    }
   ],
   "source": [
    "!ls"
   ]
  },
  {
   "cell_type": "markdown",
   "metadata": {},
   "source": [
    "Lesson 3\n",
    "----------"
   ]
  },
  {
   "cell_type": "code",
   "execution_count": 21,
   "metadata": {},
   "outputs": [
    {
     "data": {
      "text/plain": [
       "str"
      ]
     },
     "execution_count": 21,
     "metadata": {},
     "output_type": "execute_result"
    }
   ],
   "source": [
    "type('Hello World')"
   ]
  },
  {
   "cell_type": "code",
   "execution_count": 23,
   "metadata": {},
   "outputs": [
    {
     "name": "stdout",
     "output_type": "stream",
     "text": [
      "1\n"
     ]
    }
   ],
   "source": [
    "print ('1')"
   ]
  },
  {
   "cell_type": "code",
   "execution_count": 24,
   "metadata": {},
   "outputs": [
    {
     "data": {
      "text/plain": [
       "float"
      ]
     },
     "execution_count": 24,
     "metadata": {},
     "output_type": "execute_result"
    }
   ],
   "source": [
    "type(4.5e-7)"
   ]
  },
  {
   "cell_type": "code",
   "execution_count": 26,
   "metadata": {},
   "outputs": [
    {
     "data": {
      "text/plain": [
       "0.44999999999999996"
      ]
     },
     "execution_count": 26,
     "metadata": {},
     "output_type": "execute_result"
    }
   ],
   "source": [
    "4.5e-7*1000000"
   ]
  },
  {
   "cell_type": "code",
   "execution_count": 31,
   "metadata": {},
   "outputs": [
    {
     "name": "stdout",
     "output_type": "stream",
     "text": [
      "lalalalalala\n",
      "tralalalalalal\n"
     ]
    }
   ],
   "source": [
    "my_str=\"\"\"lalalalalala\n",
    "tralalalalalal\"\"\"\n",
    "\n",
    "print (my_str)"
   ]
  },
  {
   "cell_type": "code",
   "execution_count": 32,
   "metadata": {},
   "outputs": [
    {
     "ename": "SyntaxError",
     "evalue": "EOL while scanning string literal (<ipython-input-32-d9da7c0c146e>, line 1)",
     "output_type": "error",
     "traceback": [
      "\u001b[1;36m  File \u001b[1;32m\"<ipython-input-32-d9da7c0c146e>\"\u001b[1;36m, line \u001b[1;32m1\u001b[0m\n\u001b[1;33m    my_str='lalalalalala\u001b[0m\n\u001b[1;37m                        ^\u001b[0m\n\u001b[1;31mSyntaxError\u001b[0m\u001b[1;31m:\u001b[0m EOL while scanning string literal\n"
     ]
    }
   ],
   "source": [
    "my_str='lalalalalala\n",
    "tralalalalalal'\n",
    "\n",
    "print (my_str)"
   ]
  },
  {
   "cell_type": "code",
   "execution_count": 34,
   "metadata": {},
   "outputs": [
    {
     "data": {
      "text/plain": [
       "'1000101'"
      ]
     },
     "execution_count": 34,
     "metadata": {},
     "output_type": "execute_result"
    }
   ],
   "source": [
    "'{0:b}'.format(69)"
   ]
  },
  {
   "cell_type": "code",
   "execution_count": 35,
   "metadata": {},
   "outputs": [
    {
     "data": {
      "text/plain": [
       "'1000101'"
      ]
     },
     "execution_count": 35,
     "metadata": {},
     "output_type": "execute_result"
    }
   ],
   "source": [
    "'{0:d}'.format(1000101)"
   ]
  },
  {
   "cell_type": "code",
   "execution_count": 40,
   "metadata": {},
   "outputs": [
    {
     "data": {
      "text/plain": [
       "1"
      ]
     },
     "execution_count": 40,
     "metadata": {},
     "output_type": "execute_result"
    }
   ],
   "source": [
    "15%2\n"
   ]
  },
  {
   "cell_type": "code",
   "execution_count": 41,
   "metadata": {},
   "outputs": [
    {
     "data": {
      "text/plain": [
       "5.300000000000001"
      ]
     },
     "execution_count": 41,
     "metadata": {},
     "output_type": "execute_result"
    }
   ],
   "source": [
    "2.1 + 3.2"
   ]
  },
  {
   "cell_type": "code",
   "execution_count": 43,
   "metadata": {},
   "outputs": [
    {
     "data": {
      "text/plain": [
       "-8.881784197001252e-16"
      ]
     },
     "execution_count": 43,
     "metadata": {},
     "output_type": "execute_result"
    }
   ],
   "source": [
    "5.3-(2.1+3.2)\n"
   ]
  },
  {
   "cell_type": "code",
   "execution_count": 47,
   "metadata": {},
   "outputs": [
    {
     "data": {
      "text/plain": [
       "4.2"
      ]
     },
     "execution_count": 47,
     "metadata": {},
     "output_type": "execute_result"
    }
   ],
   "source": [
    "2.1*2.0"
   ]
  },
  {
   "cell_type": "code",
   "execution_count": 49,
   "metadata": {},
   "outputs": [
    {
     "name": "stdout",
     "output_type": "stream",
     "text": [
      "can't div by 0 yo\n"
     ]
    }
   ],
   "source": [
    "try:\n",
    "    print(2/0)\n",
    "except ZeroDivisionError:\n",
    "    print(\"can't div by 0 yo\")"
   ]
  },
  {
   "cell_type": "code",
   "execution_count": 50,
   "metadata": {},
   "outputs": [
    {
     "data": {
      "text/plain": [
       "0.09999999999999964"
      ]
     },
     "execution_count": 50,
     "metadata": {},
     "output_type": "execute_result"
    }
   ],
   "source": [
    "12.1%3"
   ]
  },
  {
   "cell_type": "code",
   "execution_count": 54,
   "metadata": {},
   "outputs": [
    {
     "data": {
      "text/plain": [
       "'Hello World. Hello World. Hello World. Hello World. Hello World. '"
      ]
     },
     "execution_count": 54,
     "metadata": {},
     "output_type": "execute_result"
    }
   ],
   "source": [
    "('Hello ' + 'World. ') *5"
   ]
  },
  {
   "cell_type": "code",
   "execution_count": 60,
   "metadata": {},
   "outputs": [
    {
     "data": {
      "text/plain": [
       "1"
      ]
     },
     "execution_count": 60,
     "metadata": {},
     "output_type": "execute_result"
    }
   ],
   "source": [
    "0**0\n"
   ]
  },
  {
   "cell_type": "code",
   "execution_count": 67,
   "metadata": {},
   "outputs": [
    {
     "data": {
      "text/plain": [
       "float"
      ]
     },
     "execution_count": 67,
     "metadata": {},
     "output_type": "execute_result"
    }
   ],
   "source": [
    "a=69\n",
    "b=420\n",
    "type(a)\n",
    "type(a/b)"
   ]
  },
  {
   "cell_type": "code",
   "execution_count": 69,
   "metadata": {},
   "outputs": [
    {
     "name": "stdout",
     "output_type": "stream",
     "text": [
      "<class 'float'>\n"
     ]
    }
   ],
   "source": [
    "print (type(a))"
   ]
  },
  {
   "cell_type": "code",
   "execution_count": 68,
   "metadata": {},
   "outputs": [
    {
     "name": "stdout",
     "output_type": "stream",
     "text": [
      "<class 'int'> 69\n",
      "<class 'float'> 73.1\n"
     ]
    }
   ],
   "source": [
    "print(type(a), a)\n",
    "\n",
    "a=a+4.1\n",
    "\n",
    "print(type(a), a)"
   ]
  },
  {
   "cell_type": "code",
   "execution_count": 71,
   "metadata": {},
   "outputs": [
    {
     "name": "stdout",
     "output_type": "stream",
     "text": [
      "42 <class 'int'>\n"
     ]
    }
   ],
   "source": [
    "s= '42'\n",
    "i= int(s)\n",
    "print (i, type(i))"
   ]
  },
  {
   "cell_type": "code",
   "execution_count": 72,
   "metadata": {},
   "outputs": [
    {
     "data": {
      "text/plain": [
       "'42'"
      ]
     },
     "execution_count": 72,
     "metadata": {},
     "output_type": "execute_result"
    }
   ],
   "source": [
    "str(s)"
   ]
  },
  {
   "cell_type": "code",
   "execution_count": 73,
   "metadata": {},
   "outputs": [
    {
     "data": {
      "text/plain": [
       "42"
      ]
     },
     "execution_count": 73,
     "metadata": {},
     "output_type": "execute_result"
    }
   ],
   "source": [
    "int (s)"
   ]
  },
  {
   "cell_type": "code",
   "execution_count": 74,
   "metadata": {},
   "outputs": [
    {
     "data": {
      "text/plain": [
       "2"
      ]
     },
     "execution_count": 74,
     "metadata": {},
     "output_type": "execute_result"
    }
   ],
   "source": [
    "int(2.69)"
   ]
  },
  {
   "cell_type": "code",
   "execution_count": 75,
   "metadata": {},
   "outputs": [
    {
     "name": "stdout",
     "output_type": "stream",
     "text": [
      "4242\n"
     ]
    }
   ],
   "source": [
    "print (str(s) + str(i))"
   ]
  },
  {
   "cell_type": "code",
   "execution_count": 77,
   "metadata": {},
   "outputs": [
    {
     "name": "stdout",
     "output_type": "stream",
     "text": [
      "CPython 3.7.7\n",
      "IPython 7.13.0\n",
      "\n",
      "jupyterlab 1.2.6\n"
     ]
    }
   ],
   "source": [
    "%watermark -v -p jupyterlab\n"
   ]
  },
  {
   "cell_type": "markdown",
   "metadata": {},
   "source": [
    "Lesson 4\n",
    "-"
   ]
  },
  {
   "cell_type": "code",
   "execution_count": 78,
   "metadata": {},
   "outputs": [
    {
     "data": {
      "text/plain": [
       "bool"
      ]
     },
     "execution_count": 78,
     "metadata": {},
     "output_type": "execute_result"
    }
   ],
   "source": [
    "type(True)"
   ]
  },
  {
   "cell_type": "code",
   "execution_count": 79,
   "metadata": {},
   "outputs": [
    {
     "data": {
      "text/plain": [
       "True"
      ]
     },
     "execution_count": 79,
     "metadata": {},
     "output_type": "execute_result"
    }
   ],
   "source": [
    "\"MJ\" > \"LeBron\""
   ]
  },
  {
   "cell_type": "code",
   "execution_count": 83,
   "metadata": {},
   "outputs": [
    {
     "data": {
      "text/plain": [
       "49"
      ]
     },
     "execution_count": 83,
     "metadata": {},
     "output_type": "execute_result"
    }
   ],
   "source": [
    "ord('1')"
   ]
  },
  {
   "cell_type": "code",
   "execution_count": 84,
   "metadata": {},
   "outputs": [
    {
     "data": {
      "text/plain": [
       "50"
      ]
     },
     "execution_count": 84,
     "metadata": {},
     "output_type": "execute_result"
    }
   ],
   "source": [
    "ord('2')"
   ]
  },
  {
   "cell_type": "code",
   "execution_count": 85,
   "metadata": {},
   "outputs": [
    {
     "data": {
      "text/plain": [
       "True"
      ]
     },
     "execution_count": 85,
     "metadata": {},
     "output_type": "execute_result"
    }
   ],
   "source": [
    "4<6<6.00001<9.3"
   ]
  },
  {
   "cell_type": "code",
   "execution_count": 87,
   "metadata": {},
   "outputs": [
    {
     "data": {
      "text/plain": [
       "False"
      ]
     },
     "execution_count": 87,
     "metadata": {},
     "output_type": "execute_result"
    }
   ],
   "source": [
    "4<2<4"
   ]
  },
  {
   "cell_type": "code",
   "execution_count": 88,
   "metadata": {},
   "outputs": [
    {
     "data": {
      "text/plain": [
       "True"
      ]
     },
     "execution_count": 88,
     "metadata": {},
     "output_type": "execute_result"
    }
   ],
   "source": [
    "a=5.6\n",
    "b=a\n",
    "c=b\n",
    "c is a"
   ]
  },
  {
   "cell_type": "code",
   "execution_count": 91,
   "metadata": {},
   "outputs": [
    {
     "data": {
      "text/plain": [
       "True"
      ]
     },
     "execution_count": 91,
     "metadata": {},
     "output_type": "execute_result"
    }
   ],
   "source": [
    "not (7 == 7 and 7.6 == 9.1)"
   ]
  },
  {
   "cell_type": "code",
   "execution_count": 103,
   "metadata": {},
   "outputs": [
    {
     "name": "stdout",
     "output_type": "stream",
     "text": [
      "This codon is neither a start nor stop codon.\n"
     ]
    }
   ],
   "source": [
    "codon = 'UGGA'\n",
    "\n",
    "stop = ('UAA', 'UAG', 'UGA')\n",
    "\n",
    "s='UAA'\n",
    "#print (stop)\n",
    "\n",
    "if codon == 'AUG':\n",
    "    print('This codon is the start codon.')\n",
    "else:\n",
    "    if codon in stop:\n",
    "    #if codon == 'UAA' or codon == 'UAG' or codon == 'UGA':\n",
    "        print('This codon is a stop codon.')\n",
    "    else:\n",
    "        print('This codon is neither a start nor stop codon.')"
   ]
  },
  {
   "cell_type": "markdown",
   "metadata": {},
   "source": [
    "Lesson 5\n",
    "-"
   ]
  },
  {
   "cell_type": "code",
   "execution_count": 1,
   "metadata": {},
   "outputs": [
    {
     "data": {
      "text/plain": [
       "list"
      ]
     },
     "execution_count": 1,
     "metadata": {},
     "output_type": "execute_result"
    }
   ],
   "source": [
    "listy=[1,2,3,4,5,6,7,8,9,10]\n",
    "type(listy)"
   ]
  },
  {
   "cell_type": "code",
   "execution_count": 5,
   "metadata": {},
   "outputs": [
    {
     "ename": "NameError",
     "evalue": "name 'length' is not defined",
     "output_type": "error",
     "traceback": [
      "\u001b[1;31m---------------------------------------------------------------------------\u001b[0m",
      "\u001b[1;31mNameError\u001b[0m                                 Traceback (most recent call last)",
      "\u001b[1;32m<ipython-input-5-95e0aaf6e278>\u001b[0m in \u001b[0;36m<module>\u001b[1;34m\u001b[0m\n\u001b[0;32m      1\u001b[0m \u001b[0mmy_str\u001b[0m\u001b[1;33m=\u001b[0m \u001b[1;34m\"A string\"\u001b[0m\u001b[1;33m\u001b[0m\u001b[1;33m\u001b[0m\u001b[0m\n\u001b[1;32m----> 2\u001b[1;33m \u001b[0mlength\u001b[0m\u001b[1;33m(\u001b[0m\u001b[0mlist\u001b[0m\u001b[1;33m(\u001b[0m\u001b[0mmy_str\u001b[0m\u001b[1;33m)\u001b[0m\u001b[1;33m)\u001b[0m\u001b[1;33m\u001b[0m\u001b[1;33m\u001b[0m\u001b[0m\n\u001b[0m",
      "\u001b[1;31mNameError\u001b[0m: name 'length' is not defined"
     ]
    }
   ],
   "source": [
    "my_str= \"A string\"\n",
    "length(list(my_str))"
   ]
  },
  {
   "cell_type": "code",
   "execution_count": 18,
   "metadata": {},
   "outputs": [
    {
     "name": "stdin",
     "output_type": "stream",
     "text": [
      "<class 'int'> 12\n"
     ]
    },
    {
     "name": "stdout",
     "output_type": "stream",
     "text": [
      "<class 'str'>\n",
      "This codon is neither a start nor stop codon.\n"
     ]
    }
   ],
   "source": [
    "codon=input(int)\n",
    "\n",
    "print (type(codon))\n",
    "stop = ('UAA', 'UAG', 'UGA')\n",
    "\n",
    "s='UAA'\n",
    "#print (stop)\n",
    "\n",
    "if codon == 'AUG':\n",
    "    print('This codon is the start codon.')\n",
    "else:\n",
    "    if codon in stop:\n",
    "    #if codon == 'UAA' or codon == 'UAG' or codon == 'UGA':\n",
    "        print('This codon is a stop codon.')\n",
    "    elif (type(codon)==int):\n",
    "        print ('This is a number yo')\n",
    "    else:\n",
    "        print('This codon is neither a start nor stop codon.')\n",
    "    "
   ]
  },
  {
   "cell_type": "code",
   "execution_count": 23,
   "metadata": {},
   "outputs": [
    {
     "name": "stdout",
     "output_type": "stream",
     "text": [
      "1\n",
      "2.4\n",
      "5\n",
      "a string\n"
     ]
    }
   ],
   "source": [
    "m=[1,2.4,5,'a string']\n",
    "i=0\n",
    "while (i<4):\n",
    "    print (m[i])\n",
    "    i +=1"
   ]
  },
  {
   "cell_type": "code",
   "execution_count": 59,
   "metadata": {},
   "outputs": [
    {
     "data": {
      "text/plain": [
       "10"
      ]
     },
     "execution_count": 59,
     "metadata": {},
     "output_type": "execute_result"
    }
   ],
   "source": [
    "my_list = [0, 1, 2, 3, 4, 5, 6, 7, 8, 9, 10]\n",
    "\n",
    "my_list[-1]"
   ]
  },
  {
   "cell_type": "code",
   "execution_count": 46,
   "metadata": {},
   "outputs": [
    {
     "data": {
      "text/plain": [
       "[10, 9, 8, 7, 6, 5, 4, 3, 2, 1, 0]"
      ]
     },
     "execution_count": 46,
     "metadata": {},
     "output_type": "execute_result"
    }
   ],
   "source": [
    "my_list[::-1]"
   ]
  },
  {
   "cell_type": "code",
   "execution_count": 48,
   "metadata": {},
   "outputs": [
    {
     "name": "stdout",
     "output_type": "stream",
     "text": [
      "[9, 7, 5, 3]\n"
     ]
    }
   ],
   "source": [
    "print (my_list[-2:2:-2])"
   ]
  },
  {
   "cell_type": "code",
   "execution_count": 52,
   "metadata": {},
   "outputs": [
    {
     "data": {
      "text/plain": [
       "[0, 1, 2, 3, '4', 5, 6, 7, 8, 9, 10]"
      ]
     },
     "execution_count": 52,
     "metadata": {},
     "output_type": "execute_result"
    }
   ],
   "source": [
    "my_list[4]='4'\n",
    "\n",
    "my_list"
   ]
  },
  {
   "cell_type": "code",
   "execution_count": 55,
   "metadata": {},
   "outputs": [
    {
     "name": "stdout",
     "output_type": "stream",
     "text": [
      "140729372680752\n",
      "140729372680784\n"
     ]
    }
   ],
   "source": [
    "a=6 \n",
    "print(id(a))\n",
    "\n",
    "a=7\n",
    "print(id(a))"
   ]
  },
  {
   "cell_type": "code",
   "execution_count": 60,
   "metadata": {},
   "outputs": [
    {
     "name": "stdout",
     "output_type": "stream",
     "text": [
      "140729372680560\n",
      "2245317449904\n"
     ]
    }
   ],
   "source": [
    "print (id(my_list[0]))\n",
    "\n",
    "my_list[0]= '0'\n",
    "print (id(my_list[0]))"
   ]
  },
  {
   "cell_type": "code",
   "execution_count": 65,
   "metadata": {},
   "outputs": [
    {
     "data": {
      "text/plain": [
       "['a', 2, 3, 4, 5, 6, 7, 8, 9, 10]"
      ]
     },
     "execution_count": 65,
     "metadata": {},
     "output_type": "execute_result"
    }
   ],
   "source": [
    "my_list = [1, 2, 3, 4, 5, 6, 7, 8, 9, 10]\n",
    "my_list_2 = my_list     # copy of my_list?\n",
    "my_list[0] = 'a'\n",
    "\n",
    "my_list_2"
   ]
  },
  {
   "cell_type": "code",
   "execution_count": 72,
   "metadata": {},
   "outputs": [
    {
     "data": {
      "text/plain": [
       "[3, 2, 3, 4, 5, 6, 7, 8, 9, 10]"
      ]
     },
     "execution_count": 72,
     "metadata": {},
     "output_type": "execute_result"
    }
   ],
   "source": [
    "my_list = [1, 2, 3, 4, 5, 6, 7, 8, 9, 10]\n",
    "my_list_2 = my_list[:]\n",
    "my_list_2[0] = my_list[0]+2\n",
    "\n",
    "my_list_2\n"
   ]
  },
  {
   "cell_type": "code",
   "execution_count": 76,
   "metadata": {},
   "outputs": [
    {
     "data": {
      "text/plain": [
       "(tuple, int)"
      ]
     },
     "execution_count": 76,
     "metadata": {},
     "output_type": "execute_result"
    }
   ],
   "source": [
    "mtuple=(0,3,5,9,42)\n",
    "\n",
    "nmtuple=(0)\n",
    "\n",
    "type(mtuple), type(nmtuple)"
   ]
  },
  {
   "cell_type": "code",
   "execution_count": 80,
   "metadata": {},
   "outputs": [
    {
     "data": {
      "text/plain": [
       "(list, tuple)"
      ]
     },
     "execution_count": 80,
     "metadata": {},
     "output_type": "execute_result"
    }
   ],
   "source": [
    "mlist=list(mtuple)\n",
    "\n",
    "type(mlist), type(mtuple)"
   ]
  },
  {
   "cell_type": "code",
   "execution_count": 85,
   "metadata": {},
   "outputs": [
    {
     "data": {
      "text/plain": [
       "(0, 3, 5)"
      ]
     },
     "execution_count": 85,
     "metadata": {},
     "output_type": "execute_result"
    }
   ],
   "source": [
    "#a=[]\n",
    "\n",
    "a=mtuple\n",
    "\n",
    "a[0], a[1], a[2]"
   ]
  },
  {
   "cell_type": "code",
   "execution_count": 87,
   "metadata": {},
   "outputs": [
    {
     "data": {
      "text/plain": [
       "((0, 3, 5, 9, 42), (0, 3, 5, 9, 42, 10, 12, 15))"
      ]
     },
     "execution_count": 87,
     "metadata": {},
     "output_type": "execute_result"
    }
   ],
   "source": [
    "mtuple_2=mtuple\n",
    "\n",
    "mtuple_2=mtuple_2 + (10,12,15)\n",
    "mtuple, mtuple_2"
   ]
  },
  {
   "cell_type": "code",
   "execution_count": 89,
   "metadata": {},
   "outputs": [
    {
     "data": {
      "text/plain": [
       "([0, 3, 5, 9, 42], [0, 3, 5, 9, 42, 10, 12, 14])"
      ]
     },
     "execution_count": 89,
     "metadata": {},
     "output_type": "execute_result"
    }
   ],
   "source": [
    "mlist_2=mlist\n",
    "\n",
    "mlist_2=mlist_2 + [10,12,14]\n",
    "mlist, mlist_2"
   ]
  },
  {
   "cell_type": "code",
   "execution_count": 92,
   "metadata": {},
   "outputs": [
    {
     "data": {
      "text/plain": [
       "tuple"
      ]
     },
     "execution_count": 92,
     "metadata": {},
     "output_type": "execute_result"
    }
   ],
   "source": [
    "my_tuple = (1, 2, 3)\n",
    "a = my_tuple\n",
    "type(a)"
   ]
  },
  {
   "cell_type": "markdown",
   "metadata": {},
   "source": [
    "Lesson 6\n",
    "-"
   ]
  },
  {
   "cell_type": "code",
   "execution_count": 93,
   "metadata": {},
   "outputs": [
    {
     "data": {
      "text/plain": [
       "0.5517241379310345"
      ]
     },
     "execution_count": 93,
     "metadata": {},
     "output_type": "execute_result"
    }
   ],
   "source": [
    "# The sequence we want to analyze\n",
    "seq = 'GACAGACUCCAUGCACGUGGGUAUCUGUC'\n",
    "\n",
    "# Initialize GC counter\n",
    "n_gc = 0\n",
    "\n",
    "# Initialize sequence length\n",
    "len_seq = 0\n",
    "\n",
    "# Loop through sequence and count G's and C's\n",
    "for base in seq:\n",
    "    len_seq += 1\n",
    "    if base in 'GCgc':\n",
    "        n_gc += 1\n",
    "        \n",
    "# Divide to get GC content\n",
    "n_gc / len_seq"
   ]
  },
  {
   "cell_type": "code",
   "execution_count": 94,
   "metadata": {},
   "outputs": [
    {
     "data": {
      "text/plain": [
       "29"
      ]
     },
     "execution_count": 94,
     "metadata": {},
     "output_type": "execute_result"
    }
   ],
   "source": [
    "len(seq)\n"
   ]
  },
  {
   "cell_type": "code",
   "execution_count": 99,
   "metadata": {},
   "outputs": [
    {
     "name": "stdout",
     "output_type": "stream",
     "text": [
      "0  3  6  9  "
     ]
    }
   ],
   "source": [
    "#for i in range(10):\n",
    "    #print(i, end='  ')\n",
    "    \n",
    "for i in range(0,10,3):\n",
    "    print(i, end='  ')"
   ]
  },
  {
   "cell_type": "code",
   "execution_count": 100,
   "metadata": {},
   "outputs": [
    {
     "data": {
      "text/plain": [
       "[0, 1, 2, 3, 4, 5, 6, 7, 8, 9]"
      ]
     },
     "execution_count": 100,
     "metadata": {},
     "output_type": "execute_result"
    }
   ],
   "source": [
    "list(range(10))"
   ]
  },
  {
   "cell_type": "code",
   "execution_count": 101,
   "metadata": {},
   "outputs": [
    {
     "data": {
      "text/plain": [
       "[2, 4, 6, 8, 10]"
      ]
     },
     "execution_count": 101,
     "metadata": {},
     "output_type": "execute_result"
    }
   ],
   "source": [
    "mintegers=[1,2,3,4,5]\n",
    "\n",
    "for i in range(len(mintegers)):\n",
    "    mintegers[i] *=2\n",
    "    \n",
    "mintegers"
   ]
  },
  {
   "cell_type": "code",
   "execution_count": 102,
   "metadata": {},
   "outputs": [
    {
     "data": {
      "text/plain": [
       "'GACAGACUCCAUGCACGUGGGUAUCUGUC'"
      ]
     },
     "execution_count": 102,
     "metadata": {},
     "output_type": "execute_result"
    }
   ],
   "source": [
    "seq"
   ]
  },
  {
   "cell_type": "code",
   "execution_count": 105,
   "metadata": {},
   "outputs": [
    {
     "name": "stdout",
     "output_type": "stream",
     "text": [
      "0 G  4 G  12 G  16 G  18 G  19 G  20 G  26 G  "
     ]
    }
   ],
   "source": [
    "# Loop through sequence and print index of G's\n",
    "for i, base in enumerate(seq):\n",
    "    if base in 'Gg':\n",
    "        print(i, base, end='  ')"
   ]
  },
  {
   "cell_type": "code",
   "execution_count": 106,
   "metadata": {},
   "outputs": [
    {
     "name": "stdout",
     "output_type": "stream",
     "text": [
      "0 G\n",
      "1 A\n",
      "2 C\n",
      "3 A\n",
      "4 G\n",
      "5 A\n",
      "6 C\n",
      "7 U\n",
      "8 C\n",
      "9 C\n",
      "10 A\n",
      "11 U\n",
      "12 G\n",
      "13 C\n",
      "14 A\n",
      "15 C\n",
      "16 G\n",
      "17 U\n",
      "18 G\n",
      "19 G\n",
      "20 G\n",
      "21 U\n",
      "22 A\n",
      "23 U\n",
      "24 C\n",
      "25 U\n",
      "26 G\n",
      "27 U\n",
      "28 C\n"
     ]
    }
   ],
   "source": [
    "# Print index and identity of bases\n",
    "for i, base in enumerate(seq):\n",
    "    print(i, base)"
   ]
  },
  {
   "cell_type": "code",
   "execution_count": 109,
   "metadata": {},
   "outputs": [
    {
     "name": "stdout",
     "output_type": "stream",
     "text": [
      "10 Lloyd MF\n",
      "12 Holiday MF\n",
      "17 Heath F\n"
     ]
    }
   ],
   "source": [
    "names = ('Lloyd', 'Holiday', 'Heath')\n",
    "positions = ('MF', 'MF', 'F')\n",
    "numbers = (10, 12, 17)\n",
    "\n",
    "for num, pos, name in zip(numbers, positions, names):\n",
    "    a=(num, name, pos)"
   ]
  },
  {
   "cell_type": "code",
   "execution_count": 112,
   "metadata": {},
   "outputs": [
    {
     "name": "stdout",
     "output_type": "stream",
     "text": [
      "10\n",
      "9\n",
      "8\n",
      "7\n",
      "6\n",
      "5\n",
      "4\n",
      "3\n",
      "2\n",
      "1\n",
      "ignition\n"
     ]
    }
   ],
   "source": [
    "count_up = ('ignition', 1, 2, 3, 4, 5, 6, 7, 8 ,9, 10)\n",
    "\n",
    "for count in reversed(count_up):\n",
    "    print(count)\n",
    "    "
   ]
  },
  {
   "cell_type": "markdown",
   "metadata": {},
   "source": [
    "Lesson 7\n",
    "-"
   ]
  },
  {
   "cell_type": "code",
   "execution_count": 113,
   "metadata": {},
   "outputs": [
    {
     "name": "stdout",
     "output_type": "stream",
     "text": [
      "The start codon starts at index 10\n"
     ]
    }
   ],
   "source": [
    "# Define start codon\n",
    "start_codon = 'AUG'\n",
    "\n",
    "# Scan sequence until we hit the start codon\n",
    "for i in range(len(seq)):\n",
    "    if seq[i:i+3] == start_codon:\n",
    "        print('The start codon starts at index', i)\n",
    "        break\n",
    "else:\n",
    "    print('Codon not found in sequence.')"
   ]
  },
  {
   "cell_type": "code",
   "execution_count": 115,
   "metadata": {},
   "outputs": [
    {
     "ename": "SyntaxError",
     "evalue": "'return' outside function (<ipython-input-115-26911418d2de>, line 4)",
     "output_type": "error",
     "traceback": [
      "\u001b[1;36m  File \u001b[1;32m\"<ipython-input-115-26911418d2de>\"\u001b[1;36m, line \u001b[1;32m4\u001b[0m\n\u001b[1;33m    return\u001b[0m\n\u001b[1;37m          ^\u001b[0m\n\u001b[1;31mSyntaxError\u001b[0m\u001b[1;31m:\u001b[0m 'return' outside function\n"
     ]
    }
   ],
   "source": [
    "def ratio(x, y):\n",
    "    \"\"\"The ratio of `x` to `y`.\"\"\"\n",
    "    return x / y\n",
    "\n",
    "\n"
   ]
  },
  {
   "cell_type": "code",
   "execution_count": 117,
   "metadata": {},
   "outputs": [],
   "source": [
    "def think_too_much():\n",
    "    \"\"\"Express Caesar's skepticism about Cassius\"\"\"\n",
    "    print(\"\"\"Yond Cassius has a lean and hungry look,\n",
    "He thinks too much; such men are dangerous.\"\"\")\n",
    "    "
   ]
  },
  {
   "cell_type": "code",
   "execution_count": 119,
   "metadata": {},
   "outputs": [
    {
     "name": "stdout",
     "output_type": "stream",
     "text": [
      "\n",
      "None\n"
     ]
    }
   ],
   "source": [
    "#return_val = think_too_much()\n",
    "\n",
    "# Print a blank line\n",
    "print()\n",
    "\n",
    "# Print the return value\n",
    "print(return_val)"
   ]
  },
  {
   "cell_type": "code",
   "execution_count": 122,
   "metadata": {},
   "outputs": [],
   "source": [
    "def complement_base(base):\n",
    "    \"\"\"Returns the Watson-Crick complement of a base.\"\"\"\n",
    "    if base in 'Aa':\n",
    "        return 'T'\n",
    "    elif base in 'Tt':\n",
    "        return 'A'\n",
    "    elif base in 'Gg':\n",
    "        return 'C'\n",
    "    else:\n",
    "        return 'G'\n",
    "\n",
    "\n",
    "def reverse_complement(seq):\n",
    "    \"\"\"Compute reverse complement of a sequence.\"\"\"\n",
    "    # Initialize reverse complement\n",
    "    rev_seq = ''\n",
    "    \n",
    "    # Loop through and populate list with reverse complement\n",
    "    for base in reversed(seq):\n",
    "        rev_seq += complement_base(base)\n",
    "        \n",
    "    return rev_seq\n",
    "\n"
   ]
  },
  {
   "cell_type": "code",
   "execution_count": 123,
   "metadata": {},
   "outputs": [
    {
     "data": {
      "text/plain": [
       "'TGCAACTGC'"
      ]
     },
     "execution_count": 123,
     "metadata": {},
     "output_type": "execute_result"
    }
   ],
   "source": [
    "reverse_complement('GCAGTTGCA')"
   ]
  },
  {
   "cell_type": "code",
   "execution_count": 124,
   "metadata": {},
   "outputs": [],
   "source": [
    "def display_complements(seq):\n",
    "    \"\"\"Print sequence above its reverse complement.\"\"\"\n",
    "    # Compute the reverse complement\n",
    "    rev_comp = reverse_complement(seq)\n",
    "    \n",
    "    # Print template\n",
    "    print(seq)\n",
    "    \n",
    "    # Print \"base pairs\"\n",
    "    for base in seq:\n",
    "        print('|', end='')\n",
    "    \n",
    "    # Print final newline character after base pairs\n",
    "    print()\n",
    "            \n",
    "    # Print reverse complement\n",
    "    for base in reversed(rev_comp):\n",
    "        print(base, end='')\n",
    "        \n",
    "    # Print final newline character\n",
    "    print()"
   ]
  },
  {
   "cell_type": "code",
   "execution_count": 125,
   "metadata": {},
   "outputs": [
    {
     "name": "stdout",
     "output_type": "stream",
     "text": [
      "GCAGTTGCA\n",
      "|||||||||\n",
      "CGTCAACGT\n"
     ]
    }
   ],
   "source": [
    "seq = 'GCAGTTGCA'\n",
    "display_complements(seq)"
   ]
  },
  {
   "cell_type": "code",
   "execution_count": 126,
   "metadata": {},
   "outputs": [
    {
     "ename": "IndentationError",
     "evalue": "expected an indented block (<ipython-input-126-afa1898baf39>, line 15)",
     "output_type": "error",
     "traceback": [
      "\u001b[1;36m  File \u001b[1;32m\"<ipython-input-126-afa1898baf39>\"\u001b[1;36m, line \u001b[1;32m15\u001b[0m\n\u001b[1;33m    \"\"\"Compute reverse complement of a sequence.\"\"\"\u001b[0m\n\u001b[1;37m                                                  ^\u001b[0m\n\u001b[1;31mIndentationError\u001b[0m\u001b[1;31m:\u001b[0m expected an indented block\n"
     ]
    }
   ],
   "source": [
    "def complement_base(base, material='DNA'):\n",
    "    \"\"\"Returns the Watson-Crick complement of a base.\"\"\"\n",
    "    if base in 'Aa':\n",
    "        if material == 'DNA':\n",
    "            return 'T'\n",
    "        elif material == 'RNA':\n",
    "            return 'U'\n",
    "    elif base in 'TtUu':\n",
    "        return 'A'\n",
    "    elif base in 'Gg':\n",
    "        return 'C'\n",
    "    else:\n",
    "        return 'G'\n",
    "    \n",
    "def reverse_complement(seq, material='DNA'):\n",
    "    \"\"\"Compute reverse complement of a sequence.\"\"\"\n",
    "    # Initialize reverse complement\n",
    "    rev_seq = ''\n",
    "    \n",
    "    # Loop through and populate list with reverse complement\n",
    "    for base in reversed(seq):\n",
    "        rev_seq += complement_base(base, material=material)\n",
    "        \n",
    "    return rev_seq\n"
   ]
  },
  {
   "cell_type": "code",
   "execution_count": 127,
   "metadata": {},
   "outputs": [],
   "source": [
    "def is_almost_right(a, b, c):\n",
    "    \"\"\"\n",
    "    Checks to see if a triangle with side lengths\n",
    "    `a`, `b`, and `c` is right.\n",
    "    \"\"\"\n",
    "    \n",
    "    # Use sorted(), which gives a sorted list\n",
    "    a, b, c = sorted([a, b, c])\n",
    "    \n",
    "    # Check to see if it is almost a right triangle\n",
    "    if abs(a**2 + b**2 - c**2) < 1e-12:\n",
    "        return True\n",
    "    else:\n",
    "        return False"
   ]
  },
  {
   "cell_type": "markdown",
   "metadata": {},
   "source": [
    "Lesson 8\n",
    "-"
   ]
  },
  {
   "cell_type": "code",
   "execution_count": 130,
   "metadata": {},
   "outputs": [
    {
     "name": "stdout",
     "output_type": "stream",
     "text": [
      "u\n",
      "The Du\n",
      "TeDd bds\n",
      ".sediba eduD ehT\n"
     ]
    }
   ],
   "source": [
    "my_str = 'The Dude abides.'\n",
    "\n",
    "print(my_str[5])\n",
    "print(my_str[0:6])\n",
    "print(my_str[::2])\n",
    "print(my_str[::-1])"
   ]
  },
  {
   "cell_type": "code",
   "execution_count": 131,
   "metadata": {},
   "outputs": [
    {
     "data": {
      "text/plain": [
       "16"
      ]
     },
     "execution_count": 131,
     "metadata": {},
     "output_type": "execute_result"
    }
   ],
   "source": [
    "STRING METHODS\n",
    "\n",
    "# Define sequence\n",
    "seq = 'GACAGACUCCAUGCACGUGGGUAUCAUGUC'\n",
    "\n",
    "# Count G's and C's\n",
    "seq.count('G') + seq.count('C')"
   ]
  },
  {
   "cell_type": "code",
   "execution_count": 132,
   "metadata": {},
   "outputs": [
    {
     "data": {
      "text/plain": [
       "2"
      ]
     },
     "execution_count": 132,
     "metadata": {},
     "output_type": "execute_result"
    }
   ],
   "source": [
    "seq.count('GAC')"
   ]
  },
  {
   "cell_type": "code",
   "execution_count": 133,
   "metadata": {},
   "outputs": [
    {
     "data": {
      "text/plain": [
       "0"
      ]
     },
     "execution_count": 133,
     "metadata": {},
     "output_type": "execute_result"
    }
   ],
   "source": [
    "seq.count('nonsense')"
   ]
  },
  {
   "cell_type": "code",
   "execution_count": 135,
   "metadata": {},
   "outputs": [
    {
     "data": {
      "text/plain": [
       "(10, 25)"
      ]
     },
     "execution_count": 135,
     "metadata": {},
     "output_type": "execute_result"
    }
   ],
   "source": [
    "seq.find('AUG'), seq.rfind('AUG')"
   ]
  },
  {
   "cell_type": "code",
   "execution_count": 139,
   "metadata": {},
   "outputs": [
    {
     "name": "stdout",
     "output_type": "stream",
     "text": [
      "LeBron James\n",
      "lebron james\n"
     ]
    }
   ],
   "source": [
    "b='LeBron James'\n",
    "print(b)\n",
    "b=b.lower()\n",
    "\n",
    "print(b)"
   ]
  },
  {
   "cell_type": "code",
   "execution_count": 141,
   "metadata": {},
   "outputs": [
    {
     "data": {
      "text/plain": [
       "('GACAGACTCCATGCACGTGGGTATCATGTC', 'GACAGACUCCAUGCACGUGGGUAUCAUGUC')"
      ]
     },
     "execution_count": 141,
     "metadata": {},
     "output_type": "execute_result"
    }
   ],
   "source": [
    "seq.replace('U','T'), seq"
   ]
  },
  {
   "cell_type": "code",
   "execution_count": 142,
   "metadata": {},
   "outputs": [
    {
     "data": {
      "text/plain": [
       "'The Dude abides.'"
      ]
     },
     "execution_count": 142,
     "metadata": {},
     "output_type": "execute_result"
    }
   ],
   "source": [
    "word_tuple = ('The', 'Dude', 'abides.')\n",
    "' '.join(word_tuple)"
   ]
  },
  {
   "cell_type": "markdown",
   "metadata": {},
   "source": [
    "The format method()\n",
    "-"
   ]
  },
  {
   "cell_type": "code",
   "execution_count": 143,
   "metadata": {},
   "outputs": [
    {
     "name": "stdout",
     "output_type": "stream",
     "text": [
      "\n",
      "Let's do a Mad Lib!\n",
      "During this bootcamp, I feel truculent.\n",
      "The instructors give us haircuts.\n",
      "\n"
     ]
    }
   ],
   "source": [
    "my_str = \"\"\"\n",
    "Let's do a Mad Lib!\n",
    "During this bootcamp, I feel {adjective}.\n",
    "The instructors give us {plural_noun}.\n",
    "\"\"\".format(adjective='truculent', plural_noun='haircuts')\n",
    "\n",
    "print(my_str)"
   ]
  },
  {
   "cell_type": "code",
   "execution_count": 145,
   "metadata": {},
   "outputs": [
    {
     "name": "stdout",
     "output_type": "stream",
     "text": [
      "There are 50 states in the US.\n",
      "Your file number is 23.\n",
      "π is approximately 3.140000.\n",
      "e is approximately 2.71828183.\n",
      "Avogadro's number is approximately 6.022000e+23.\n",
      "ε₀ is approximately 8.8541878170000005e-12 F/m.\n",
      "That rug really tied the room together.\n"
     ]
    }
   ],
   "source": [
    "#string conversions\n",
    "\n",
    "print('There are {n:d} states in the US.'.format(n=50))\n",
    "print('Your file number is {n:d}.'.format(n=23))\n",
    "print('π is approximately {pi:f}.'.format(pi=3.14))\n",
    "print('e is approximately {e:.8f}.'.format(e=2.7182818284590451))\n",
    "print(\"Avogadro's number is approximately {N_A:e}.\".format(N_A=6.022e23))\n",
    "print('ε₀ is approximately {eps_0:.16e} F/m.'.format(eps_0=8.854187817e-12))\n",
    "print('That {thing:s} really tied the room together.'.format(thing='rug'))"
   ]
  },
  {
   "cell_type": "code",
   "execution_count": 146,
   "metadata": {},
   "outputs": [
    {
     "name": "stdout",
     "output_type": "stream",
     "text": [
      "There are 50 states in the US.\n",
      "Your file number is 23.\n",
      "π is approximately 3.14.\n",
      "e is approximately 2.71828183.\n",
      "Avogadro's number is approximately 6.022e+23.\n",
      "ε₀ is approximately 8.854187817e-12 F/m.\n",
      "That rug really tied the room together.\n"
     ]
    }
   ],
   "source": [
    "#f-strings\n",
    "\n",
    "n_states = 50\n",
    "file_number = 23\n",
    "pi = 3.14\n",
    "e = 2.7182818284590451\n",
    "N_A = 6.022e23\n",
    "eps_0=8.854187817e-12\n",
    "thing = 'rug'\n",
    "\n",
    "print(f'There are {n_states} states in the US.')\n",
    "print(f'Your file number is {file_number}.')\n",
    "print(f'π is approximately {pi}.')\n",
    "print(f'e is approximately {e:.8f}.')\n",
    "print(f\"Avogadro's number is approximately {N_A}.\")\n",
    "print(f'ε₀ is approximately {eps_0} F/m.')\n",
    "print(f'That {thing} really tied the room together.')"
   ]
  },
  {
   "cell_type": "code",
   "execution_count": null,
   "metadata": {},
   "outputs": [],
   "source": []
  }
 ],
 "metadata": {
  "kernelspec": {
   "display_name": "Python 3",
   "language": "python",
   "name": "python3"
  },
  "language_info": {
   "codemirror_mode": {
    "name": "ipython",
    "version": 3
   },
   "file_extension": ".py",
   "mimetype": "text/x-python",
   "name": "python",
   "nbconvert_exporter": "python",
   "pygments_lexer": "ipython3",
   "version": "3.7.7"
  }
 },
 "nbformat": 4,
 "nbformat_minor": 4
}
