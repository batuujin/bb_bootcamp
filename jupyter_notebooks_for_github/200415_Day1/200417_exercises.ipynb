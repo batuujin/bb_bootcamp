{
 "cells": [
  {
   "cell_type": "markdown",
   "metadata": {},
   "source": [
    "Exercises Time!\n",
    "-"
   ]
  },
  {
   "cell_type": "markdown",
   "metadata": {},
   "source": [
    "### Exercise 1.1"
   ]
  },
  {
   "cell_type": "code",
   "execution_count": 30,
   "metadata": {},
   "outputs": [
    {
     "name": "stdout",
     "output_type": "stream",
     "text": [
      "GCAGTTGCAAAAAAAAATTTATATAATATTCGATCGACTACAGCTACATATCGTACGATCGATCGAT\n",
      "|||||||||||||||||||||||||||||||||||||||||||||||||||||||||||||||||||\n",
      "CGTCAACGTTTTTTTTTAAATATATTATAAGCTAGCTGATGTCGATGTATAGCATGCTAGCTAGCTA\n"
     ]
    }
   ],
   "source": [
    "def complement_base(base):\n",
    "    \"\"\"Returns the Watson-Crick complement of a base.\"\"\"\n",
    "    if base in 'Aa':\n",
    "        return 'T'\n",
    "    elif base in 'Tt':\n",
    "        return 'A'\n",
    "    elif base in 'Gg':\n",
    "        return 'C'\n",
    "    else:\n",
    "        return 'G'\n",
    "\n",
    "def rev_comp(seq):\n",
    "    \"\"\"Compute reverse compliment of a sequence but wwithout using reversed\"\"\"\n",
    "    rev_seq_og=''\n",
    "    for base in seq:\n",
    "        rev_seq_og += complement_base(base)\n",
    "    rev_seq_comp=(rev_seq_og[::-1])\n",
    "    return rev_seq_comp\n",
    "\n",
    "seq=\"GCAGTTGCAAAAAAAAATTTATATAATATTCGATCGACTACAGCTACATATCGTACGATCGATCGAT\"\n",
    "\n",
    "print (seq)\n",
    "print ('|'*len(seq))\n",
    "print (rev_comp(seq)[::-1])\n"
   ]
  },
  {
   "cell_type": "code",
   "execution_count": 18,
   "metadata": {},
   "outputs": [],
   "source": [
    "#stuff for reference\n",
    "def reverse_complement(seq):\n",
    "    \"\"\"Compute reverse complement of a sequence.\"\"\"\n",
    "    # Initialize reverse complement\n",
    "    rev_seq = ''\n",
    "    \n",
    "    # Loop through and populate list with reverse complement\n",
    "    for base in reversed(seq):\n",
    "        rev_seq += complement_base(base)\n",
    "        \n",
    "    return rev_seq"
   ]
  },
  {
   "cell_type": "code",
   "execution_count": 3,
   "metadata": {},
   "outputs": [
    {
     "name": "stdout",
     "output_type": "stream",
     "text": [
      "GCAGTTGC\n",
      "||||||||\n",
      "('G', 'C', 'A', 'G', 'T', 'T', 'G', 'C')\n",
      "C\n",
      "['G', 'C', 'A', 'G', 'T', 'T', 'G', 'C']\n"
     ]
    },
    {
     "data": {
      "text/plain": [
       "\u001b[1;31mSignature:\u001b[0m \u001b[0mcomplement_base\u001b[0m\u001b[1;33m(\u001b[0m\u001b[0mbase\u001b[0m\u001b[1;33m)\u001b[0m\u001b[1;33m\u001b[0m\u001b[1;33m\u001b[0m\u001b[0m\n",
       "\u001b[1;31mDocstring:\u001b[0m Returns the Watson-Crick complement of a base.\n",
       "\u001b[1;31mFile:\u001b[0m      c:\\users\\batuujin\\jupyter_notebooks\\200415_lession1\\<ipython-input-3-d838c4751687>\n",
       "\u001b[1;31mType:\u001b[0m      function\n"
      ]
     },
     "metadata": {},
     "output_type": "display_data"
    }
   ],
   "source": [
    "#exercise 1.1b\n",
    "\n",
    "def complement_base(base):\n",
    "    \"\"\"Returns the Watson-Crick complement of a base.\"\"\"\n",
    "    if base in 'Aa':\n",
    "        return 'T'\n",
    "    elif base in 'Tt':\n",
    "        return 'A'\n",
    "    elif base in 'Gg':\n",
    "        return 'C'\n",
    "    else:\n",
    "        return 'G'\n",
    "\n",
    "def rev_comp(seq):\n",
    "    \"\"\"Compute reverse compliment of a sequence but wwithout using any looping\"\"\"\n",
    "    #rev_seq_og=seq[::-1]\n",
    "    seq_tuple=tuple(seq)\n",
    "    rev_seq_og=complement_base(seq_tuple[0])\n",
    "    print (seq_tuple)\n",
    "    #for base in seq:\n",
    "     #   rev_seq_og += complement_base(base)\n",
    "    return rev_seq_og\n",
    "\n",
    "seq=\"GCAGTTGC\"\n",
    "\n",
    "print (seq)\n",
    "print ('|'*len(seq))\n",
    "print (rev_comp(seq))\n",
    "print (list(seq))\n",
    "a=list(seq)\n",
    "a.index(\"G\")\n",
    "\n",
    "complement_base?"
   ]
  },
  {
   "cell_type": "markdown",
   "metadata": {},
   "source": [
    "### Exercise 1.2"
   ]
  },
  {
   "cell_type": "code",
   "execution_count": 91,
   "metadata": {},
   "outputs": [
    {
     "data": {
      "text/plain": [
       "'ACGTGG'"
      ]
     },
     "execution_count": 91,
     "metadata": {},
     "output_type": "execute_result"
    }
   ],
   "source": [
    "def com(seq1,seq2):\n",
    "    \"\"\"Finds the longest common substring in two sequences\"\"\"\n",
    "    if (len(seq1) <= len(seq2)):\n",
    "        seq_use=seq1\n",
    "        seq_long=seq2\n",
    "    else:\n",
    "        seq_use=seq2\n",
    "        seq_long=seq1\n",
    "    seq_keep=''\n",
    "    i=0\n",
    "    while (i<=len(seq_use)):\n",
    "        k=0\n",
    "        while (k<=len(seq_use)):\n",
    "            # this if is to check if the current sub-string denoted by i and k is in the longer sequence\n",
    "            if seq_use[i:k] in seq_long:\n",
    "                #This if is to make sure that I keep the longest string found and discard the rest\n",
    "                if (len(seq_use[i:k]) > len(seq_keep)):\n",
    "                    seq_keep=seq_use[i:k]\n",
    "            k +=1\n",
    "        i +=1\n",
    "    return seq_keep\n",
    "\n",
    "\n",
    "com('ACGTGGAAAGCCA', 'GTACACACGTGGTTTGAGAGACAC')"
   ]
  },
  {
   "cell_type": "markdown",
   "metadata": {},
   "source": [
    "### Exercise 1.3"
   ]
  },
  {
   "cell_type": "code",
   "execution_count": 2,
   "metadata": {},
   "outputs": [
    {
     "data": {
      "text/plain": [
       "True"
      ]
     },
     "execution_count": 2,
     "metadata": {},
     "output_type": "execute_result"
    }
   ],
   "source": [
    "def comp_base_rna(base):\n",
    "    \"\"\"Returns the Watson-Crick complement of a base for RNA sequence.\"\"\"\n",
    "    if base in 'Aa':\n",
    "        return 'U'\n",
    "    elif base in 'Uu':\n",
    "        return 'A'\n",
    "    elif base in 'Gg':\n",
    "        return 'C'\n",
    "    else:\n",
    "        return 'G'\n",
    "    \n",
    "def valid(par_string):\n",
    "    \"\"\"Function that tests validity of RNA sequence given, in terms of being able to have 2ndary structures\"\"\"\n",
    "    if (par_string.count('(') == par_string.count(')')):\n",
    "        return True\n",
    "    else: \n",
    "        return False\n",
    "#valid('(((.(..)....)))')\n",
    "\n",
    "def dotparen_to_bp(par_string):\n",
    "    i=0\n",
    "    k=len(par_string)\n",
    "    pairs=[]\n",
    "    \n",
    "    while(i<=len(par_string)/2):\n",
    "        if (par_string[i] == '(' and par_string[k-i-1] ==')'):\n",
    "            t_tuple=(i,k-i-1)\n",
    "            pairs.append(t_tuple)\n",
    "        i += 1\n",
    "    return tuple(pairs)\n",
    "        \n",
    "#dotparen_to_bp('(((....)))')\n",
    "\n",
    "def loop_check(par_string):\n",
    "    k=len(par_string)\n",
    "    a='(..'\n",
    "    b='..)'\n",
    "    #print (a+b)\n",
    "    i=0\n",
    "    while (i<=k):\n",
    "        if a+b in par_string:\n",
    "            #print (a+b)\n",
    "            return True\n",
    "            break\n",
    "        a=a+'.'\n",
    "        i+=1\n",
    "    return False\n",
    "\n",
    "#loop_check('(((...................)))')\n",
    "\n",
    "def rna_ss_validator(seq, sec_struc, wobble=True):\n",
    "    \"\"\"You can add wobble=False in argument if you don't want wobbles\"\"\"\n",
    "    if (loop_check(sec_struc,)==False):\n",
    "        return False\n",
    "    else:\n",
    "        pass\n",
    "    pair=dotparen_to_bp(sec_struc)\n",
    "    i=0        \n",
    "    \n",
    "    if (wobble==True):\n",
    "        i=0\n",
    "        # If wobble is true, then check any non-pair you get is a wobble pair\n",
    "        while (i<=len(pair)):\n",
    "            if (seq[pair[i][0]] != comp_base_rna(seq[pair[i][1]])):\n",
    "                if (seq[pair[i][0]] == 'G' and seq[pair[i][1]] == 'U' or seq[pair[i][0]] == 'U' and seq[pair[i][1]] == 'G'):\n",
    "                    pass\n",
    "                #elif (seq[pair[i][0]] == 'U' and seq[pair[i][1]] == 'G'):\n",
    "                #    pass\n",
    "                else:\n",
    "                    return False\n",
    "            #if not, then it means every base compared was a WC base pair\n",
    "            else:\n",
    "                return True\n",
    "            i+=1\n",
    "    #if wobble ain;t true, just check if there aren't any mismatches        \n",
    "    else:\n",
    "        i=0\n",
    "        while (i<=len(pair)):\n",
    "            if (seq[pair[i][0]] != comp_base_rna(seq[pair[i][1]])):\n",
    "                return False\n",
    "            else: \n",
    "                return True\n",
    "            i+=1\n",
    "\n",
    "#rna_ss_validator('GCCCUUGGCA', '(.((..))).', wobble=False)\n",
    "rna_ss_validator('UCAUCUAUGG', '(.(....).)', wobble=True)\n",
    "rna_ss_validator('AUUGAUGCACGUGCAUCCCCAGCGGGUCCCGCGAGCUCACCCCCUUCCAAAAGCACCACGUGCCAGGCCUCGCCCCCGGAAGUAUACCUGUGAGCCAGA',\n",
    "                       '...(((((....)))))....((((...))))..((((((...(((((....((((...))))..(((...)))...))))).......))))))....')   \n",
    "rna_ss_validator('GCAUCUAUGU', '(.(....).)')"
   ]
  },
  {
   "cell_type": "code",
   "execution_count": null,
   "metadata": {},
   "outputs": [],
   "source": []
  },
  {
   "cell_type": "code",
   "execution_count": null,
   "metadata": {},
   "outputs": [],
   "source": []
  }
 ],
 "metadata": {
  "kernelspec": {
   "display_name": "Python 3",
   "language": "python",
   "name": "python3"
  },
  "language_info": {
   "codemirror_mode": {
    "name": "ipython",
    "version": 3
   },
   "file_extension": ".py",
   "mimetype": "text/x-python",
   "name": "python",
   "nbconvert_exporter": "python",
   "pygments_lexer": "ipython3",
   "version": "3.7.7"
  }
 },
 "nbformat": 4,
 "nbformat_minor": 4
}
